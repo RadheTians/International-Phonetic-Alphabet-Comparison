{
 "cells": [
  {
   "cell_type": "code",
   "execution_count": 1,
   "metadata": {
    "colab": {},
    "colab_type": "code",
    "id": "CL0yi7NwFFe_"
   },
   "outputs": [],
   "source": [
    "import scipy.fftpack as fft\n",
    "import scipy.io.wavfile as wav\n",
    "import matplotlib.pyplot as plt \n",
    "import numpy as np\n",
    "from scipy.signal import get_window\n",
    "import math"
   ]
  },
  {
   "cell_type": "code",
   "execution_count": 0,
   "metadata": {
    "colab": {},
    "colab_type": "code",
    "id": "KTHzgk1E4jtL"
   },
   "outputs": [],
   "source": [
    "# !pip install hmmlearn==0.1.1\n",
    "# !pip install pydub\n",
    "# !pip install eyeD3==0.8.1\n",
    "# !sudo apt-get install ffmpeg\n",
    "# !sudo apt-get install python3-magic\n",
    "# !pip install python-magic\n",
    "# !pip install pyAudioAnalysis"
   ]
  },
  {
   "cell_type": "code",
   "execution_count": 0,
   "metadata": {
    "colab": {
     "base_uri": "https://localhost:8080/",
     "height": 40,
     "resources": {
      "http://localhost:8080/nbextensions/google.colab/files.js": {
       "data": "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",
       "headers": [
        [
         "content-type",
         "application/javascript"
        ]
       ],
       "ok": true,
       "status": 200,
       "status_text": ""
      }
     }
    },
    "colab_type": "code",
    "id": "kyYuxLgdFH4b",
    "outputId": "cc413a67-4339-4e8e-dd4d-07f8a21c3892"
   },
   "outputs": [
    {
     "data": {
      "text/html": [
       "\n",
       "     <input type=\"file\" id=\"files-53910724-293d-4701-a634-a364de5b1b83\" name=\"files[]\" multiple disabled />\n",
       "     <output id=\"result-53910724-293d-4701-a634-a364de5b1b83\">\n",
       "      Upload widget is only available when the cell has been executed in the\n",
       "      current browser session. Please rerun this cell to enable.\n",
       "      </output>\n",
       "      <script src=\"/nbextensions/google.colab/files.js\"></script> "
      ],
      "text/plain": [
       "<IPython.core.display.HTML object>"
      ]
     },
     "metadata": {
      "tags": []
     },
     "output_type": "display_data"
    }
   ],
   "source": [
    "from google.colab import files\n",
    "uploaded = files.upload()"
   ]
  },
  {
   "cell_type": "code",
   "execution_count": 0,
   "metadata": {
    "colab": {
     "base_uri": "https://localhost:8080/",
     "height": 346
    },
    "colab_type": "code",
    "id": "GxLePMujGV9I",
    "outputId": "a62a11b0-50e5-4b7e-a99c-875e528df653"
   },
   "outputs": [
    {
     "data": {
      "text/html": [
       "\n",
       "     <input type=\"file\" id=\"files-aa20bc9e-8381-4fc1-8ea2-df1b8e4a949f\" name=\"files[]\" multiple disabled />\n",
       "     <output id=\"result-aa20bc9e-8381-4fc1-8ea2-df1b8e4a949f\">\n",
       "      Upload widget is only available when the cell has been executed in the\n",
       "      current browser session. Please rerun this cell to enable.\n",
       "      </output>\n",
       "      <script src=\"/nbextensions/google.colab/files.js\"></script> "
      ],
      "text/plain": [
       "<IPython.core.display.HTML object>"
      ]
     },
     "metadata": {
      "tags": []
     },
     "output_type": "display_data"
    },
    {
     "ename": "MessageError",
     "evalue": "ignored",
     "output_type": "error",
     "traceback": [
      "\u001b[0;31m---------------------------------------------------------------------------\u001b[0m",
      "\u001b[0;31mMessageError\u001b[0m                              Traceback (most recent call last)",
      "\u001b[0;32m<ipython-input-37-21dc3c638f66>\u001b[0m in \u001b[0;36m<module>\u001b[0;34m()\u001b[0m\n\u001b[1;32m      1\u001b[0m \u001b[0;32mfrom\u001b[0m \u001b[0mgoogle\u001b[0m\u001b[0;34m.\u001b[0m\u001b[0mcolab\u001b[0m \u001b[0;32mimport\u001b[0m \u001b[0mfiles\u001b[0m\u001b[0;34m\u001b[0m\u001b[0;34m\u001b[0m\u001b[0m\n\u001b[0;32m----> 2\u001b[0;31m \u001b[0muploaded\u001b[0m \u001b[0;34m=\u001b[0m \u001b[0mfiles\u001b[0m\u001b[0;34m.\u001b[0m\u001b[0mupload\u001b[0m\u001b[0;34m(\u001b[0m\u001b[0;34m)\u001b[0m\u001b[0;34m\u001b[0m\u001b[0;34m\u001b[0m\u001b[0m\n\u001b[0m",
      "\u001b[0;32m/usr/local/lib/python3.6/dist-packages/google/colab/files.py\u001b[0m in \u001b[0;36mupload\u001b[0;34m()\u001b[0m\n\u001b[1;32m     62\u001b[0m   result = _output.eval_js(\n\u001b[1;32m     63\u001b[0m       'google.colab._files._uploadFiles(\"{input_id}\", \"{output_id}\")'.format(\n\u001b[0;32m---> 64\u001b[0;31m           input_id=input_id, output_id=output_id))\n\u001b[0m\u001b[1;32m     65\u001b[0m   \u001b[0mfiles\u001b[0m \u001b[0;34m=\u001b[0m \u001b[0m_collections\u001b[0m\u001b[0;34m.\u001b[0m\u001b[0mdefaultdict\u001b[0m\u001b[0;34m(\u001b[0m\u001b[0m_six\u001b[0m\u001b[0;34m.\u001b[0m\u001b[0mbinary_type\u001b[0m\u001b[0;34m)\u001b[0m\u001b[0;34m\u001b[0m\u001b[0;34m\u001b[0m\u001b[0m\n\u001b[1;32m     66\u001b[0m   \u001b[0;31m# Mapping from original filename to filename as saved locally.\u001b[0m\u001b[0;34m\u001b[0m\u001b[0;34m\u001b[0m\u001b[0;34m\u001b[0m\u001b[0m\n",
      "\u001b[0;32m/usr/local/lib/python3.6/dist-packages/google/colab/output/_js.py\u001b[0m in \u001b[0;36meval_js\u001b[0;34m(script, ignore_result)\u001b[0m\n\u001b[1;32m     37\u001b[0m   \u001b[0;32mif\u001b[0m \u001b[0mignore_result\u001b[0m\u001b[0;34m:\u001b[0m\u001b[0;34m\u001b[0m\u001b[0;34m\u001b[0m\u001b[0m\n\u001b[1;32m     38\u001b[0m     \u001b[0;32mreturn\u001b[0m\u001b[0;34m\u001b[0m\u001b[0;34m\u001b[0m\u001b[0m\n\u001b[0;32m---> 39\u001b[0;31m   \u001b[0;32mreturn\u001b[0m \u001b[0m_message\u001b[0m\u001b[0;34m.\u001b[0m\u001b[0mread_reply_from_input\u001b[0m\u001b[0;34m(\u001b[0m\u001b[0mrequest_id\u001b[0m\u001b[0;34m)\u001b[0m\u001b[0;34m\u001b[0m\u001b[0;34m\u001b[0m\u001b[0m\n\u001b[0m\u001b[1;32m     40\u001b[0m \u001b[0;34m\u001b[0m\u001b[0m\n\u001b[1;32m     41\u001b[0m \u001b[0;34m\u001b[0m\u001b[0m\n",
      "\u001b[0;32m/usr/local/lib/python3.6/dist-packages/google/colab/_message.py\u001b[0m in \u001b[0;36mread_reply_from_input\u001b[0;34m(message_id, timeout_sec)\u001b[0m\n\u001b[1;32m    104\u001b[0m         reply.get('colab_msg_id') == message_id):\n\u001b[1;32m    105\u001b[0m       \u001b[0;32mif\u001b[0m \u001b[0;34m'error'\u001b[0m \u001b[0;32min\u001b[0m \u001b[0mreply\u001b[0m\u001b[0;34m:\u001b[0m\u001b[0;34m\u001b[0m\u001b[0;34m\u001b[0m\u001b[0m\n\u001b[0;32m--> 106\u001b[0;31m         \u001b[0;32mraise\u001b[0m \u001b[0mMessageError\u001b[0m\u001b[0;34m(\u001b[0m\u001b[0mreply\u001b[0m\u001b[0;34m[\u001b[0m\u001b[0;34m'error'\u001b[0m\u001b[0;34m]\u001b[0m\u001b[0;34m)\u001b[0m\u001b[0;34m\u001b[0m\u001b[0;34m\u001b[0m\u001b[0m\n\u001b[0m\u001b[1;32m    107\u001b[0m       \u001b[0;32mreturn\u001b[0m \u001b[0mreply\u001b[0m\u001b[0;34m.\u001b[0m\u001b[0mget\u001b[0m\u001b[0;34m(\u001b[0m\u001b[0;34m'data'\u001b[0m\u001b[0;34m,\u001b[0m \u001b[0;32mNone\u001b[0m\u001b[0;34m)\u001b[0m\u001b[0;34m\u001b[0m\u001b[0;34m\u001b[0m\u001b[0m\n\u001b[1;32m    108\u001b[0m \u001b[0;34m\u001b[0m\u001b[0m\n",
      "\u001b[0;31mMessageError\u001b[0m: TypeError: Cannot read property '_uploadFiles' of undefined"
     ]
    }
   ],
   "source": [
    "from google.colab import files\n",
    "uploaded = files.upload()"
   ]
  },
  {
   "cell_type": "code",
   "execution_count": 2,
   "metadata": {
    "colab": {},
    "colab_type": "code",
    "id": "aKux1kTiGfE7"
   },
   "outputs": [
    {
     "name": "stdout",
     "output_type": "stream",
     "text": [
      "[ -8 -10 -10 -10 -10 -10  -8  -9 -10 -10 -11 -11 -11 -12  -9  -9  -9  -9\n",
      "  -9  -9  -9  -9 -10 -10  -9  -9  -7  -7  -7  -7  -9  -7  -9  -8  -7  -7\n",
      "  -8  -6  -5  -9  -9  -7  -7  -7  -7  -7  -8  -7 -10  -8  -6  -6  -6  -6\n",
      "  -4  -7  -5  -2  -2  -2  -2  -2  -2  -3  -3  -3   0   0  -1  -1   1   2\n",
      "   0  -2   1   0   0   2   1  -1  -3  -1  -2  -2  -2  -4  -1   0   1  -1\n",
      "  -3   1  -1  -1  -1  -2  -2  -2  -2   0]\n",
      "[ -8 -10 -10 -10 -10 -10  -8  -9 -10 -10 -11 -11 -11 -12  -9  -9  -9  -9\n",
      "  -9  -9  -9  -9 -10 -10  -9  -9  -7  -7  -7  -7  -9  -7  -9  -8  -7  -7\n",
      "  -8  -6  -5  -9  -9  -7  -7  -7  -7  -7  -8  -7 -10  -8  -6  -6  -6  -6\n",
      "  -4  -7  -5  -2  -2  -2  -2  -2  -2  -3  -3  -3   0   0  -1  -1   1   2\n",
      "   0  -2   1   0   0   2   1  -1  -3  -1  -2  -2  -2  -4  -1   0   1  -1\n",
      "  -3   1  -1  -1  -1  -2  -2  -2  -2   0]\n",
      "(27500,)\n",
      "(27500,)\n",
      "[-17 -19 -17 -17 -18 -15 -17 -18 -18 -15 -15 -15 -16 -16 -11 -13 -16 -14\n",
      " -13 -13 -16 -18 -17 -15 -15 -19 -19 -18 -17 -16 -14 -14 -15 -17 -16 -18\n",
      " -19 -19 -15 -17 -19 -17 -17 -19 -18 -18 -18 -16 -16 -19 -20 -20 -20 -22\n",
      " -18 -15 -15 -16 -20 -21 -20 -20 -20 -19 -18 -24 -20 -19 -20 -21 -17 -22\n",
      " -23 -23 -23 -25 -26 -27 -25 -21 -22 -22 -23 -20 -20 -18 -19 -23 -19 -20\n",
      " -23 -21 -20 -21 -20 -21 -22 -17 -14 -17]\n",
      "[-17 -19 -17 -17 -18 -15 -17 -18 -18 -15 -15 -15 -16 -16 -11 -13 -16 -14\n",
      " -13 -13 -16 -18 -17 -15 -15 -19 -19 -18 -17 -16 -14 -14 -15 -17 -16 -18\n",
      " -19 -19 -15 -17 -19 -17 -17 -19 -18 -18 -18 -16 -16 -19 -20 -20 -20 -22\n",
      " -18 -15 -15 -16 -20 -21 -20 -20 -20 -19 -18 -24 -20 -19 -20 -21 -17 -22\n",
      " -23 -23 -23 -25 -26 -27 -25 -21 -22 -22 -23 -20 -20 -18 -19 -23 -19 -20\n",
      " -23 -21 -20 -21 -20 -21 -22 -17 -14 -17]\n",
      "(37245,)\n",
      "(37245,)\n",
      "[-12 -11  -9  -9  -9 -10 -11  -9  -9  -7  -7  -7  -7  -7 -10  -7  -9 -10\n",
      "  -9  -8 -10 -10  -7  -8  -8  -7  -7  -6  -6  -6  -6  -6  -6  -7  -7  -7\n",
      "  -7  -7  -6 -10 -11  -9 -10  -7  -7 -10 -10  -7 -10  -8  -8  -9  -9  -9\n",
      "  -9  -9 -10 -11  -9  -9  -9  -9  -7  -8  -8  -7  -9  -9  -9  -8  -8  -6\n",
      "  -7  -7  -7  -8  -7  -8  -8  -7  -8 -10 -10 -10 -11 -12 -12 -10 -11 -11\n",
      " -11 -11 -12 -13 -11 -11 -12 -10 -11 -16]\n",
      "[-12 -11  -9  -9  -9 -10 -11  -9  -9  -7  -7  -7  -7  -7 -10  -7  -9 -10\n",
      "  -9  -8 -10 -10  -7  -8  -8  -7  -7  -6  -6  -6  -6  -6  -6  -7  -7  -7\n",
      "  -7  -7  -6 -10 -11  -9 -10  -7  -7 -10 -10  -7 -10  -8  -8  -9  -9  -9\n",
      "  -9  -9 -10 -11  -9  -9  -9  -9  -7  -8  -8  -7  -9  -9  -9  -8  -8  -6\n",
      "  -7  -7  -7  -8  -7  -8  -8  -7  -8 -10 -10 -10 -11 -12 -12 -10 -11 -11\n",
      " -11 -11 -12 -13 -11 -11 -12 -10 -11 -16]\n",
      "(87371,)\n",
      "(87371,)\n",
      "[14 16 16 14 14 11 12 13 13 16 13 12 12 10 11 15 15 14 15 14 11  9 13 12\n",
      " 11 11 11  9  9  9 11 10 11 13 14 10 12 12 13 16 15 14 17 16 12 14 17 18\n",
      " 17 16 14 13 12 15 13  9 15 14 14 16 13 16 18 17 16 15 10  9 12 13 11 14\n",
      " 16 15 11  8 10 14 11  9  9  9  8  7  7  7  8 10 10  7  5  6  7  6  3  3\n",
      "  8  9 12  9]\n",
      "[14 16 16 14 14 11 12 13 13 16 13 12 12 10 11 15 15 14 15 14 11  9 13 12\n",
      " 11 11 11  9  9  9 11 10 11 13 14 10 12 12 13 16 15 14 17 16 12 14 17 18\n",
      " 17 16 14 13 12 15 13  9 15 14 14 16 13 16 18 17 16 15 10  9 12 13 11 14\n",
      " 16 15 11  8 10 14 11  9  9  9  8  7  7  7  8 10 10  7  5  6  7  6  3  3\n",
      "  8  9 12  9]\n",
      "(31073,)\n",
      "(31073,)\n",
      "[51 55 52 52 51 50 48 47 43 44 43 43 39 40 42 43 42 43 42 41 39 40 40 39\n",
      " 37 37 36 37 38 40 39 42 41 40 40 41 42 42 43 44 44 42 42 42 44 41 41 38\n",
      " 41 41 39 40 40 38 37 41 40 40 39 40 42 41 40 40 41 41 41 43 45 45 43 43\n",
      " 40 40 40 40 40 41 40 39 40 38 40 40 39 37 36 35 32 31 30 33 35 36 36 37\n",
      " 36 35 33 31]\n",
      "[51 55 52 52 51 50 48 47 43 44 43 43 39 40 42 43 42 43 42 41 39 40 40 39\n",
      " 37 37 36 37 38 40 39 42 41 40 40 41 42 42 43 44 44 42 42 42 44 41 41 38\n",
      " 41 41 39 40 40 38 37 41 40 40 39 40 42 41 40 40 41 41 41 43 45 45 43 43\n",
      " 40 40 40 40 40 41 40 39 40 38 40 40 39 37 36 35 32 31 30 33 35 36 36 37\n",
      " 36 35 33 31]\n",
      "(85185,)\n",
      "(85185,)\n",
      "[ -6  -7  -5  -6  -6  -5  -5  -9  -9  -7  -8  -8  -7  -8  -8  -9  -9  -9\n",
      "  -9 -11 -10  -8  -7 -10  -8  -6  -8  -6  -6 -10 -10 -11 -11 -11 -11 -12\n",
      " -10 -12 -11 -13 -14 -15 -14 -14 -14 -15 -18 -18 -16 -16 -14 -18 -18 -18\n",
      " -18 -18 -21 -19 -19 -17 -15 -15 -18 -16 -14 -14 -15 -14 -12 -13 -12 -11\n",
      " -11 -11 -12 -13 -13 -11 -12 -11 -12 -13 -13 -14 -14 -14 -12 -14 -16 -14\n",
      " -13 -14 -11 -12 -14 -15 -15 -14 -15 -16]\n",
      "[ -6  -7  -5  -6  -6  -5  -5  -9  -9  -7  -8  -8  -7  -8  -8  -9  -9  -9\n",
      "  -9 -11 -10  -8  -7 -10  -8  -6  -8  -6  -6 -10 -10 -11 -11 -11 -11 -12\n",
      " -10 -12 -11 -13 -14 -15 -14 -14 -14 -15 -18 -18 -16 -16 -14 -18 -18 -18\n",
      " -18 -18 -21 -19 -19 -17 -15 -15 -18 -16 -14 -14 -15 -14 -12 -13 -12 -11\n",
      " -11 -11 -12 -13 -13 -11 -12 -11 -12 -13 -13 -14 -14 -14 -12 -14 -16 -14\n",
      " -13 -14 -11 -12 -14 -15 -15 -14 -15 -16]\n",
      "(96123,)\n",
      "(96123,)\n",
      "[[-2 -4]\n",
      " [-3 -5]\n",
      " [-4 -5]\n",
      " [-4 -6]\n",
      " [-1 -3]\n",
      " [-3 -1]\n",
      " [-3 -2]\n",
      " [-4 -3]\n",
      " [-4 -2]\n",
      " [-4 -4]\n",
      " [-3 -3]\n",
      " [-4 -5]\n",
      " [-4 -6]\n",
      " [-3 -6]\n",
      " [-3 -3]\n",
      " [-1 -2]\n",
      " [-1 -2]\n",
      " [-2 -5]\n",
      " [-1 -1]\n",
      " [-3 -1]\n",
      " [-4 -3]\n",
      " [-2 -3]\n",
      " [ 0  1]\n",
      " [ 0  1]\n",
      " [ 0  0]\n",
      " [ 2 -1]\n",
      " [ 1  0]\n",
      " [ 1  1]\n",
      " [ 1  1]\n",
      " [ 2  0]\n",
      " [-1 -2]\n",
      " [ 1  0]\n",
      " [ 3  2]\n",
      " [ 2  0]\n",
      " [ 2  2]\n",
      " [ 2  1]\n",
      " [ 2  0]\n",
      " [ 5  0]\n",
      " [ 3  3]\n",
      " [ 3  2]\n",
      " [ 3  3]\n",
      " [ 6  3]\n",
      " [ 3  3]\n",
      " [ 3  1]\n",
      " [ 2  1]\n",
      " [ 5  2]\n",
      " [ 7  4]\n",
      " [ 7  4]\n",
      " [ 5  4]\n",
      " [ 5  4]\n",
      " [ 2  2]\n",
      " [ 2  0]\n",
      " [ 4  4]\n",
      " [ 4  4]\n",
      " [ 4  3]\n",
      " [ 4  4]\n",
      " [ 6  4]\n",
      " [ 6  5]\n",
      " [ 5  6]\n",
      " [ 3  4]\n",
      " [ 2  0]\n",
      " [ 0  0]\n",
      " [ 4  2]\n",
      " [ 6  4]\n",
      " [ 3  2]\n",
      " [ 4  4]\n",
      " [ 6  4]\n",
      " [ 8  4]\n",
      " [ 3  1]\n",
      " [-1  3]\n",
      " [ 3  5]\n",
      " [ 4  4]\n",
      " [ 4  4]\n",
      " [ 4  4]\n",
      " [ 5  4]\n",
      " [ 2  3]\n",
      " [ 1 -1]\n",
      " [ 1 -2]\n",
      " [ 2  0]\n",
      " [ 1  1]\n",
      " [ 1  0]\n",
      " [ 4  2]\n",
      " [ 6  3]\n",
      " [ 7  3]\n",
      " [ 7  7]\n",
      " [ 6  5]\n",
      " [ 4  3]\n",
      " [ 5  1]\n",
      " [ 3  3]\n",
      " [ 3  3]\n",
      " [ 3  3]\n",
      " [ 1 -1]\n",
      " [ 1  1]\n",
      " [ 3  2]\n",
      " [ 2  2]\n",
      " [ 2  4]\n",
      " [ 2  2]\n",
      " [ 4  2]\n",
      " [ 2  2]\n",
      " [ 3  4]]\n",
      "[[-2 -4]\n",
      " [-3 -5]\n",
      " [-4 -5]\n",
      " [-4 -6]\n",
      " [-1 -3]\n",
      " [-3 -1]\n",
      " [-3 -2]\n",
      " [-4 -3]\n",
      " [-4 -2]\n",
      " [-4 -4]\n",
      " [-3 -3]\n",
      " [-4 -5]\n",
      " [-4 -6]\n",
      " [-3 -6]\n",
      " [-3 -3]\n",
      " [-1 -2]\n",
      " [-1 -2]\n",
      " [-2 -5]\n",
      " [-1 -1]\n",
      " [-3 -1]\n",
      " [-4 -3]\n",
      " [-2 -3]\n",
      " [ 0  1]\n",
      " [ 0  1]\n",
      " [ 0  0]\n",
      " [ 2 -1]\n",
      " [ 1  0]\n",
      " [ 1  1]\n",
      " [ 1  1]\n",
      " [ 2  0]\n",
      " [-1 -2]\n",
      " [ 1  0]\n",
      " [ 3  2]\n",
      " [ 2  0]\n",
      " [ 2  2]\n",
      " [ 2  1]\n",
      " [ 2  0]\n",
      " [ 5  0]\n",
      " [ 3  3]\n",
      " [ 3  2]\n",
      " [ 3  3]\n",
      " [ 6  3]\n",
      " [ 3  3]\n",
      " [ 3  1]\n",
      " [ 2  1]\n",
      " [ 5  2]\n",
      " [ 7  4]\n",
      " [ 7  4]\n",
      " [ 5  4]\n",
      " [ 5  4]\n",
      " [ 2  2]\n",
      " [ 2  0]\n",
      " [ 4  4]\n",
      " [ 4  4]\n",
      " [ 4  3]\n",
      " [ 4  4]\n",
      " [ 6  4]\n",
      " [ 6  5]\n",
      " [ 5  6]\n",
      " [ 3  4]\n",
      " [ 2  0]\n",
      " [ 0  0]\n",
      " [ 4  2]\n",
      " [ 6  4]\n",
      " [ 3  2]\n",
      " [ 4  4]\n",
      " [ 6  4]\n",
      " [ 8  4]\n",
      " [ 3  1]\n",
      " [-1  3]\n",
      " [ 3  5]\n",
      " [ 4  4]\n",
      " [ 4  4]\n",
      " [ 4  4]\n",
      " [ 5  4]\n",
      " [ 2  3]\n",
      " [ 1 -1]\n",
      " [ 1 -2]\n",
      " [ 2  0]\n",
      " [ 1  1]\n",
      " [ 1  0]\n",
      " [ 4  2]\n",
      " [ 6  3]\n",
      " [ 7  3]\n",
      " [ 7  7]\n",
      " [ 6  5]\n",
      " [ 4  3]\n",
      " [ 5  1]\n",
      " [ 3  3]\n",
      " [ 3  3]\n",
      " [ 3  3]\n",
      " [ 1 -1]\n",
      " [ 1  1]\n",
      " [ 3  2]\n",
      " [ 2  2]\n",
      " [ 2  4]\n",
      " [ 2  2]\n",
      " [ 4  2]\n",
      " [ 2  2]\n",
      " [ 3  4]]\n",
      "(57482, 2)\n",
      "(57482, 2)\n",
      "[12 12 12 10 11 10 10 10 13 13 13 13 11  9  8  8  8  8  8  8  9 10  6  8\n",
      " 10  6  8  8  6  7  7  6  7  7  7  9 10  8  8  7  8  9 10  8  9  9  8  9\n",
      "  9 11 10 10 10 10 10  9  9 10 12 12 12 12 13 12 11 12 13 13 14 13 13 13\n",
      " 12 14 14 15 15 16 13 14 13 15 16 17 14 15 16 17 14 16 16 16 17 17 16 14\n",
      " 17 19 16 16]\n",
      "[12 12 12 10 11 10 10 10 13 13 13 13 11  9  8  8  8  8  8  8  9 10  6  8\n",
      " 10  6  8  8  6  7  7  6  7  7  7  9 10  8  8  7  8  9 10  8  9  9  8  9\n",
      "  9 11 10 10 10 10 10  9  9 10 12 12 12 12 13 12 11 12 13 13 14 13 13 13\n",
      " 12 14 14 15 15 16 13 14 13 15 16 17 14 15 16 17 14 16 16 16 17 17 16 14\n",
      " 17 19 16 16]\n",
      "(29893,)\n",
      "(29893,)\n",
      "[27 33 27 28 28 26 27 24 24 29 28 26 26 22 25 26 21 26 25 22 24 20 20 26\n",
      " 24 27 32 31 28 28 31 29 26 25 29 33 34 35 38 37 31 28 38 38 32 41 39 40\n",
      " 40 33 40 44 42 37 31 33 36 33 34 35 43 43 48 47 42 42 36 42 41 36 43 39\n",
      " 41 53 53 55 48 46 51 44 42 42 43 43 43 53 48 41 46 46 44 39 42 49 45 47\n",
      " 43 44 42 31]\n",
      "[27 33 27 28 28 26 27 24 24 29 28 26 26 22 25 26 21 26 25 22 24 20 20 26\n",
      " 24 27 32 31 28 28 31 29 26 25 29 33 34 35 38 37 31 28 38 38 32 41 39 40\n",
      " 40 33 40 44 42 37 31 33 36 33 34 35 43 43 48 47 42 42 36 42 41 36 43 39\n",
      " 41 53 53 55 48 46 51 44 42 42 43 43 43 53 48 41 46 46 44 39 42 49 45 47\n",
      " 43 44 42 31]\n",
      "(89394,)\n",
      "(89394,)\n",
      "[-30 -30 -30 -27 -29 -26 -25 -24 -24 -20 -23 -27 -25 -21 -17 -14 -20 -26\n",
      " -24 -17  -9 -11 -20 -28 -24 -12 -11 -14 -19 -20 -17 -13 -12 -17 -14 -11\n",
      " -10 -13 -16 -16 -15 -10  -8  -7 -10 -13 -13  -6  -6  -8 -10 -11  -6  -3\n",
      "  -4  -6  -8  -7  -2  -3  -3  -3  -4  -3   2   1   0   0  -2  -2   0  -2\n",
      "   1   4   1   1   3   3   9   9   9   9  11  12  11  10   9  10  12  12\n",
      "  11   9  11  16  15  12  11  12  16  19]\n",
      "[-30 -30 -30 -27 -29 -26 -25 -24 -24 -20 -23 -27 -25 -21 -17 -14 -20 -26\n",
      " -24 -17  -9 -11 -20 -28 -24 -12 -11 -14 -19 -20 -17 -13 -12 -17 -14 -11\n",
      " -10 -13 -16 -16 -15 -10  -8  -7 -10 -13 -13  -6  -6  -8 -10 -11  -6  -3\n",
      "  -4  -6  -8  -7  -2  -3  -3  -3  -4  -3   2   1   0   0  -2  -2   0  -2\n",
      "   1   4   1   1   3   3   9   9   9   9  11  12  11  10   9  10  12  12\n",
      "  11   9  11  16  15  12  11  12  16  19]\n",
      "(74890,)\n",
      "(74890,)\n",
      "[ 8  7 10 12 10  6  8  8  8  6  7  7  8  9  6  6  6  6  4  5  7  5  6  7\n",
      "  5  4  4  4  6  7  5  6  5  8  8  6  7  6  6  9 10  8  6  8  8  6  5  4\n",
      "  6  5  3  5  3  1  5  6  8  9 10  8  9  6  8  8  4  3  8  8  6  5  6  7\n",
      "  7  7  6  8 13 11 10  8 11 14 15 11 10 12 10  9 10  8 10  8 10  9  9 11\n",
      " 10  6  5  8]\n",
      "[ 8  7 10 12 10  6  8  8  8  6  7  7  8  9  6  6  6  6  4  5  7  5  6  7\n",
      "  5  4  4  4  6  7  5  6  5  8  8  6  7  6  6  9 10  8  6  8  8  6  5  4\n",
      "  6  5  3  5  3  1  5  6  8  9 10  8  9  6  8  8  4  3  8  8  6  5  6  7\n",
      "  7  7  6  8 13 11 10  8 11 14 15 11 10 12 10  9 10  8 10  8 10  9  9 11\n",
      " 10  6  5  8]\n",
      "(88282,)\n",
      "(88282,)\n",
      "[71 72 68 64 63 61 60 60 56 55 52 48 50 53 54 52 52 53 55 55 53 54 54 56\n",
      " 53 56 54 50 51 52 52 53 55 55 56 57 55 54 54 55 58 61 62 62 61 61 61 61\n",
      " 60 62 60 60 59 63 63 62 61 58 62 64 65 66 62 60 61 65 65 63 66 68 67 75\n",
      " 75 75 72 71 71 70 73 72 70 69 71 72 71 75 74 72 69 63 64 66 68 70 72 72\n",
      " 71 74 79 79]\n",
      "[71 72 68 64 63 61 60 60 56 55 52 48 50 53 54 52 52 53 55 55 53 54 54 56\n",
      " 53 56 54 50 51 52 52 53 55 55 56 57 55 54 54 55 58 61 62 62 61 61 61 61\n",
      " 60 62 60 60 59 63 63 62 61 58 62 64 65 66 62 60 61 65 65 63 66 68 67 75\n",
      " 75 75 72 71 71 70 73 72 70 69 71 72 71 75 74 72 69 63 64 66 68 70 72 72\n",
      " 71 74 79 79]\n",
      "(95303,)\n",
      "(95303,)\n",
      "[ -9 -12 -11 -14 -15 -20 -19 -19 -18 -19 -18 -15 -11  -9  -9  -8 -10 -12\n",
      " -13 -16 -17 -17 -17 -15 -16 -16 -19 -20 -18 -16 -16 -16 -16 -16 -15 -14\n",
      " -15 -17 -18 -21 -25 -22 -16 -12 -10 -10 -12 -14 -12 -15 -16 -16 -17 -15\n",
      " -10  -8  -7 -10 -13 -18 -18 -25 -31 -26 -25 -26 -24 -21 -21 -21 -24 -26\n",
      " -30 -28 -28 -27 -26 -23 -19 -17 -15 -14 -15 -17 -20 -19 -18 -19 -23 -21\n",
      " -22 -21 -20 -18 -19 -20 -21 -22 -25 -27]\n",
      "[ -9 -12 -11 -14 -15 -20 -19 -19 -18 -19 -18 -15 -11  -9  -9  -8 -10 -12\n",
      " -13 -16 -17 -17 -17 -15 -16 -16 -19 -20 -18 -16 -16 -16 -16 -16 -15 -14\n",
      " -15 -17 -18 -21 -25 -22 -16 -12 -10 -10 -12 -14 -12 -15 -16 -16 -17 -15\n",
      " -10  -8  -7 -10 -13 -18 -18 -25 -31 -26 -25 -26 -24 -21 -21 -21 -24 -26\n",
      " -30 -28 -28 -27 -26 -23 -19 -17 -15 -14 -15 -17 -20 -19 -18 -19 -23 -21\n",
      " -22 -21 -20 -18 -19 -20 -21 -22 -25 -27]\n",
      "(93391,)\n",
      "(93391,)\n",
      "[41 47 39 42 45 42 46 47 45 45 50 47 51 56 56 57 58 57 58 60 59 60 59 59\n",
      " 58 58 57 60 59 59 60 62 60 62 61 58 61 64 66 65 68 64 66 71 72 68 71 74\n",
      " 77 79 80 81 83 80 81 77 76 80 79 77 79 79 75 72 73 73 73 72 71 72 74 71\n",
      " 71 74 70 65 67 68 64 64 65 71 71 70 70 72 64 61 67 69 72 74 71 73 76 70\n",
      " 66 66 65 60]\n",
      "[41 47 39 42 45 42 46 47 45 45 50 47 51 56 56 57 58 57 58 60 59 60 59 59\n",
      " 58 58 57 60 59 59 60 62 60 62 61 58 61 64 66 65 68 64 66 71 72 68 71 74\n",
      " 77 79 80 81 83 80 81 77 76 80 79 77 79 79 75 72 73 73 73 72 71 72 74 71\n",
      " 71 74 70 65 67 68 64 64 65 71 71 70 70 72 64 61 67 69 72 74 71 73 76 70\n",
      " 66 66 65 60]\n",
      "(38205,)\n",
      "(38205,)\n",
      "[36 49 52 52 53 47 46 50 41 41 47 49 53 54 47 38 40 52 59 57 53 45 41 50\n",
      " 53 47 54 66 67 60 50 45 53 60 57 44 33 42 54 47 43 48 57 67 77 68 57 60\n",
      " 80 90 72 50 47 46 45 49 46 43 37 21 14 30 55 65 50 28 17 28 48 66 68 60\n",
      " 49 29 22 31 39 38 31 21 17 22 21 17 21 29 33 25 14 12 16 26 37 36 27 18\n",
      " 17 17 27 47]\n",
      "[36 49 52 52 53 47 46 50 41 41 47 49 53 54 47 38 40 52 59 57 53 45 41 50\n",
      " 53 47 54 66 67 60 50 45 53 60 57 44 33 42 54 47 43 48 57 67 77 68 57 60\n",
      " 80 90 72 50 47 46 45 49 46 43 37 21 14 30 55 65 50 28 17 28 48 66 68 60\n",
      " 49 29 22 31 39 38 31 21 17 22 21 17 21 29 33 25 14 12 16 26 37 36 27 18\n",
      " 17 17 27 47]\n",
      "(27603,)\n",
      "(27603,)\n",
      "[-28 -29 -25 -23 -21 -23 -26 -28 -23 -23 -22 -21 -23 -21 -19 -19 -21 -19\n",
      " -17 -19 -19 -18 -18 -17 -15 -18 -19 -16 -16 -17 -19 -21 -24 -19 -21 -21\n",
      " -20 -21 -20 -18 -21 -21 -23 -24 -22 -23 -22 -23 -25 -22 -21 -23 -21 -19\n",
      " -20 -18 -19 -15 -16 -18 -16 -15 -18 -18 -17 -18 -19 -23 -21 -18 -16 -17\n",
      " -19 -20 -18 -16 -15 -16 -17 -15 -17 -19 -17 -16 -18 -18 -20 -21 -23 -22\n",
      " -18 -15 -16 -16 -11 -12 -13 -15 -23 -33]\n",
      "[-28 -29 -25 -23 -21 -23 -26 -28 -23 -23 -22 -21 -23 -21 -19 -19 -21 -19\n",
      " -17 -19 -19 -18 -18 -17 -15 -18 -19 -16 -16 -17 -19 -21 -24 -19 -21 -21\n",
      " -20 -21 -20 -18 -21 -21 -23 -24 -22 -23 -22 -23 -25 -22 -21 -23 -21 -19\n",
      " -20 -18 -19 -15 -16 -18 -16 -15 -18 -18 -17 -18 -19 -23 -21 -18 -16 -17\n",
      " -19 -20 -18 -16 -15 -16 -17 -15 -17 -19 -17 -16 -18 -18 -20 -21 -23 -22\n",
      " -18 -15 -16 -16 -11 -12 -13 -15 -23 -33]\n",
      "(33180,)\n",
      "(33180,)\n",
      "[11 10 11  9  9  8  9  7 10  6  6  5  6  8 10  8  8  8  8  9  9 10 10  9\n",
      "  9  9  7  9  9 11  8  8  8  9  7  7  9  7  7  7  5  6  5  5  5  5  5  5\n",
      "  3  2  4  1  1  1  4  5  2  0  3  3  3  1  2  2 -1 -1  1  2  2  4  2  0\n",
      "  0 -1 -1  0  0 -1  2 -2 -1 -1  0  0  0 -2 -3 -2 -2 -2  0  1  1  1  1 -1\n",
      "  2 -3 -3 -2]\n",
      "[11 10 11  9  9  8  9  7 10  6  6  5  6  8 10  8  8  8  8  9  9 10 10  9\n",
      "  9  9  7  9  9 11  8  8  8  9  7  7  9  7  7  7  5  6  5  5  5  5  5  5\n",
      "  3  2  4  1  1  1  4  5  2  0  3  3  3  1  2  2 -1 -1  1  2  2  4  2  0\n",
      "  0 -1 -1  0  0 -1  2 -2 -1 -1  0  0  0 -2 -3 -2 -2 -2  0  1  1  1  1 -1\n",
      "  2 -3 -3 -2]\n",
      "(89117,)\n",
      "(89117,)\n",
      "[-15 -16 -16 -14 -14 -14 -13 -10  -9  -9  -9  -7  -7  -7  -6 -10 -10 -10\n",
      "  -9 -10 -10 -10 -12 -10 -10 -10 -10  -8 -10 -11 -11 -11 -11 -11 -11  -9\n",
      "  -7  -7  -8  -8 -11  -8  -8 -10 -10  -5  -6  -6  -7  -9 -10 -11  -9  -9\n",
      "  -9  -7  -8 -12 -15 -13 -14 -15 -14 -13 -16 -19 -16 -16 -15 -17 -18 -16\n",
      " -15 -15 -16 -19 -24 -24 -20 -17 -17 -17 -18 -20 -17 -18 -19 -21 -21 -19\n",
      " -20 -18 -20 -25 -23 -27 -30 -28 -25 -24]\n",
      "[-15 -16 -16 -14 -14 -14 -13 -10  -9  -9  -9  -7  -7  -7  -6 -10 -10 -10\n",
      "  -9 -10 -10 -10 -12 -10 -10 -10 -10  -8 -10 -11 -11 -11 -11 -11 -11  -9\n",
      "  -7  -7  -8  -8 -11  -8  -8 -10 -10  -5  -6  -6  -7  -9 -10 -11  -9  -9\n",
      "  -9  -7  -8 -12 -15 -13 -14 -15 -14 -13 -16 -19 -16 -16 -15 -17 -18 -16\n",
      " -15 -15 -16 -19 -24 -24 -20 -17 -17 -17 -18 -20 -17 -18 -19 -21 -21 -19\n",
      " -20 -18 -20 -25 -23 -27 -30 -28 -25 -24]\n",
      "(31360,)\n",
      "(31360,)\n",
      "[35 33 31 34 35 33 33 31 31 27 28 29 31 32 36 35 32 32 32 33 31 29 32 30\n",
      " 28 30 29 28 29 30 28 33 34 34 31 32 35 35 32 32 30 32 30 24 25 33 33 32\n",
      " 31 27 26 28 27 27 27 27 25 26 28 29 27 32 30 26 31 31 28 26 29 33 35 35\n",
      " 36 38 36 37 37 37 37 39 43 47 47 48 44 41 44 47 47 53 50 53 56 56 52 54\n",
      " 52 52 52 57]\n",
      "[35 33 31 34 35 33 33 31 31 27 28 29 31 32 36 35 32 32 32 33 31 29 32 30\n",
      " 28 30 29 28 29 30 28 33 34 34 31 32 35 35 32 32 30 32 30 24 25 33 33 32\n",
      " 31 27 26 28 27 27 27 27 25 26 28 29 27 32 30 26 31 31 28 26 29 33 35 35\n",
      " 36 38 36 37 37 37 37 39 43 47 47 48 44 41 44 47 47 53 50 53 56 56 52 54\n",
      " 52 52 52 57]\n",
      "(102921,)\n",
      "(102921,)\n",
      "[0 0 0 0 0 0 0 0 0 0 0 0 0 0 0 0 0 0 0 0 0 0 0 0 0 0 0 0 0 0 0 0 0 0 0 0 0\n",
      " 0 0 0 0 0 0 0 0 0 0 0 0 0 0 0 0 0 0 0 0 0 0 0 0 0 0 0 0 0 0 0 0 0 0 0 0 0\n",
      " 0 0 0 0 0 0 0 0 0 0 0 0 0 0 0 0 0 0 0 0 0 0 0 0 0 0]\n",
      "[0 0 0 0 0 0 0 0 0 0 0 0 0 0 0 0 0 0 0 0 0 0 0 0 0 0 0 0 0 0 0 0 0 0 0 0 0\n",
      " 0 0 0 0 0 0 0 0 0 0 0 0 0 0 0 0 0 0 0 0 0 0 0 0 0 0 0 0 0 0 0 0 0 0 0 0 0\n",
      " 0 0 0 0 0 0 0 0 0 0 0 0 0 0 0 0 0 0 0 0 0 0 0 0 0 0]\n",
      "(46080,)\n",
      "(46080,)\n",
      "[87 92 86 82 84 82 82 81 80 80 77 77 76 76 77 76 76 76 76 71 70 69 64 64\n",
      " 63 65 62 63 62 61 60 61 63 66 67 67 68 71 71 71 74 73 75 75 80 78 76 76\n",
      " 75 71 74 72 69 71 73 73 75 72 70 71 73 76 74 67 68 72 66 66 68 66 67 72\n",
      " 72 75 77 78 80 80 77 76 76 81 84 79 84 83 82 80 81 78 77 81 79 76 80 79\n",
      " 78 78 80 78]\n",
      "[87 92 86 82 84 82 82 81 80 80 77 77 76 76 77 76 76 76 76 71 70 69 64 64\n",
      " 63 65 62 63 62 61 60 61 63 66 67 67 68 71 71 71 74 73 75 75 80 78 76 76\n",
      " 75 71 74 72 69 71 73 73 75 72 70 71 73 76 74 67 68 72 66 66 68 66 67 72\n",
      " 72 75 77 78 80 80 77 76 76 81 84 79 84 83 82 80 81 78 77 81 79 76 80 79\n",
      " 78 78 80 78]\n",
      "(34148,)\n",
      "(34148,)\n",
      "[29 27 20 18 18 25 26 23 18 16 18 23 24 21 16 14 19 27 21  6 -1 -2  8 29\n",
      " 38 29 18  8  4  8 13 16 13 13 20 25 19 16 19 22 23 25 19  6  1  9 21 32\n",
      " 31 22 16 19 20 10 10 17 21 18 16 15 16 19 23 22 19 14 10  1 -2  9 29 38\n",
      " 32 16 -1 -4  4 21 32 31 24 16 14 21 24 24 19 12  8  9 16 21 18  8  4  1\n",
      " 13 34 47 44]\n",
      "[29 27 20 18 18 25 26 23 18 16 18 23 24 21 16 14 19 27 21  6 -1 -2  8 29\n",
      " 38 29 18  8  4  8 13 16 13 13 20 25 19 16 19 22 23 25 19  6  1  9 21 32\n",
      " 31 22 16 19 20 10 10 17 21 18 16 15 16 19 23 22 19 14 10  1 -2  9 29 38\n",
      " 32 16 -1 -4  4 21 32 31 24 16 14 21 24 24 19 12  8  9 16 21 18  8  4  1\n",
      " 13 34 47 44]\n",
      "(102950,)\n",
      "(102950,)\n",
      "[13 12 11 11 12 14 12 12 10 11 11 11 11 10 12  9 10 12  9 10 12 13 13 13\n",
      " 14 12 12 12 13 13 13 13 14 14 14 15 15 16 15 15 15 16 17 19 17 16 16 16\n",
      " 18 16 17 17 18 19 18 18 18 18 17 17 18 21 19 18 17 20 18 19 19 19 20 20\n",
      " 21 20 19 20 21 20 20 22 19 21 21 22 20 21 19 22 22 21 21 22 21 21 22 23\n",
      " 25 25 26 25]\n",
      "[13 12 11 11 12 14 12 12 10 11 11 11 11 10 12  9 10 12  9 10 12 13 13 13\n",
      " 14 12 12 12 13 13 13 13 14 14 14 15 15 16 15 15 15 16 17 19 17 16 16 16\n",
      " 18 16 17 17 18 19 18 18 18 18 17 17 18 21 19 18 17 20 18 19 19 19 20 20\n",
      " 21 20 19 20 21 20 20 22 19 21 21 22 20 21 19 22 22 21 21 22 21 21 22 23\n",
      " 25 25 26 25]\n",
      "(96332,)\n",
      "(96332,)\n",
      "[-10 -13 -10  -8 -10 -12  -9 -11 -13 -11  -9 -12 -10  -7  -6  -8  -8  -7\n",
      " -11 -10 -10 -10 -13 -14 -13 -12 -14 -14 -13 -13 -15 -17 -16 -10 -10 -12\n",
      " -12 -11 -14 -13 -10  -9  -9  -9  -6  -8 -11  -8  -5  -3  -5  -6  -7  -7\n",
      "  -7  -7  -8  -5  -4  -3  -3   1  -1  -3  -1   0  -4  -4  -3  -6  -4  -4\n",
      "  -5   1   0  -1   2   3   0  -1  -2  -2  -1   0   1   0   2   3  -1   0\n",
      "   1   0  -1   0   1  -2  -1  -1   0  -1]\n",
      "[-10 -13 -10  -8 -10 -12  -9 -11 -13 -11  -9 -12 -10  -7  -6  -8  -8  -7\n",
      " -11 -10 -10 -10 -13 -14 -13 -12 -14 -14 -13 -13 -15 -17 -16 -10 -10 -12\n",
      " -12 -11 -14 -13 -10  -9  -9  -9  -6  -8 -11  -8  -5  -3  -5  -6  -7  -7\n",
      "  -7  -7  -8  -5  -4  -3  -3   1  -1  -3  -1   0  -4  -4  -3  -6  -4  -4\n",
      "  -5   1   0  -1   2   3   0  -1  -2  -2  -1   0   1   0   2   3  -1   0\n",
      "   1   0  -1   0   1  -2  -1  -1   0  -1]\n",
      "(88623,)\n",
      "(88623,)\n",
      "[15 14 16 14 15 15 17 13 15 13 13 13 11 12 10  7  7  8  8  8  6  6  3  5\n",
      "  6  7  7  9  9  7  5  3  1  2  5  5  3  3  4  1  2  1  2  4  4  3  3  2\n",
      "  3  5  5  5  6  6  5  5  2  0  1 -1  1  1  1  2  3  3  4  6  4  5  4  2\n",
      "  4  5  6  6  4  1  0  2 -2  0  2  2  6  3  0  3  4  3  2  2  0  1  4  2\n",
      "  0  2  1  4]\n",
      "[15 14 16 14 15 15 17 13 15 13 13 13 11 12 10  7  7  8  8  8  6  6  3  5\n",
      "  6  7  7  9  9  7  5  3  1  2  5  5  3  3  4  1  2  1  2  4  4  3  3  2\n",
      "  3  5  5  5  6  6  5  5  2  0  1 -1  1  1  1  2  3  3  4  6  4  5  4  2\n",
      "  4  5  6  6  4  1  0  2 -2  0  2  2  6  3  0  3  4  3  2  2  0  1  4  2\n",
      "  0  2  1  4]\n",
      "(92872,)\n",
      "(92872,)\n",
      "[ 12  13  14  10  10  12  12  11   9   8  10  13  13  13  12  14  14  12\n",
      "  10   9   9  11  13  10   9  10   6   7  10   7   4   4   4   2   7   2\n",
      "   2   6   6   6   7   9   7   8   7   5   4   4   1   3   5   3   4   6\n",
      "   3   4   5   4   8   8   7   3  -3  -4  -1  -1   0   1  -2  -3   0  -1\n",
      "  -3  -4  -5  -3  -5 -11  -8  -2  -3  -3   0   1  -1  -3  -4  -5  -5  -3\n",
      "  -2   0   1  -2   0   0   0   1   0  -2]\n",
      "[ 12  13  14  10  10  12  12  11   9   8  10  13  13  13  12  14  14  12\n",
      "  10   9   9  11  13  10   9  10   6   7  10   7   4   4   4   2   7   2\n",
      "   2   6   6   6   7   9   7   8   7   5   4   4   1   3   5   3   4   6\n",
      "   3   4   5   4   8   8   7   3  -3  -4  -1  -1   0   1  -2  -3   0  -1\n",
      "  -3  -4  -5  -3  -5 -11  -8  -2  -3  -3   0   1  -1  -3  -4  -5  -5  -3\n",
      "  -2   0   1  -2   0   0   0   1   0  -2]\n",
      "(31815,)\n",
      "(31815,)\n",
      "[30 29 27 24 23 22 18 20 18 18 21 18 16 15 17 17 14 12 13 13 13 12 11  9\n",
      " 10 10 10 10  8 10  9 10 12 12  9  8  9  8  8  6  4  6 10 16 12  4  7 14\n",
      " 13  4 -1  3  9  9  9 11 13 15 11  4  9 13 16 13 11 11  8  7  7  9  7  5\n",
      "  8  9 11  8 10  8  9  6  3  3  6  7  5  4  5  4  5  6  9  9  5  7  3  3\n",
      "  8  8  7  6]\n",
      "[30 29 27 24 23 22 18 20 18 18 21 18 16 15 17 17 14 12 13 13 13 12 11  9\n",
      " 10 10 10 10  8 10  9 10 12 12  9  8  9  8  8  6  4  6 10 16 12  4  7 14\n",
      " 13  4 -1  3  9  9  9 11 13 15 11  4  9 13 16 13 11 11  8  7  7  9  7  5\n",
      "  8  9 11  8 10  8  9  6  3  3  6  7  5  4  5  4  5  6  9  9  5  7  3  3\n",
      "  8  8  7  6]\n",
      "(77381,)\n",
      "(77381,)\n",
      "[11 13 12 12 10  8  9 11 11 11 12 10  9 10 10 10 10 10 10 12 10 10  9 10\n",
      " 10 10 10 10 10 11  9 11  9  8 12 12 13  9  9  9 10 11 11 10  7  9 10  9\n",
      "  9  8  7  7 10  9  9  9 10  8  8  8 10  8  8  9 10 11  9  8  8  9  8  9\n",
      "  8  9  8  7  8 11  9  9 12 10  8  9  9 10 10  8  9 10 11  9  8  9  9  9\n",
      " 10 11 11  9]\n",
      "[11 13 12 12 10  8  9 11 11 11 12 10  9 10 10 10 10 10 10 12 10 10  9 10\n",
      " 10 10 10 10 10 11  9 11  9  8 12 12 13  9  9  9 10 11 11 10  7  9 10  9\n",
      "  9  8  7  7 10  9  9  9 10  8  8  8 10  8  8  9 10 11  9  8  8  9  8  9\n",
      "  8  9  8  7  8 11  9  9 12 10  8  9  9 10 10  8  9 10 11  9  8  9  9  9\n",
      " 10 11 11  9]\n",
      "(86131,)\n",
      "(86131,)\n",
      "[-41 -42 -36 -33 -32 -35 -37 -38 -34 -32 -35 -35 -32 -30 -30 -32 -32 -32\n",
      " -31 -31 -30 -32 -32 -32 -30 -33 -34 -34 -31 -30 -31 -32 -32 -29 -28 -30\n",
      " -31 -32 -30 -29 -31 -33 -32 -31 -29 -26 -28 -28 -28 -30 -28 -28 -29 -29\n",
      " -30 -29 -30 -34 -35 -34 -34 -35 -36 -34 -33 -31 -33 -34 -35 -33 -32 -29\n",
      " -30 -33 -32 -34 -35 -33 -33 -32 -34 -33 -33 -33 -35 -35 -33 -31 -31 -36\n",
      " -36 -36 -34 -33 -34 -35 -36 -34 -34 -35]\n",
      "[-41 -42 -36 -33 -32 -35 -37 -38 -34 -32 -35 -35 -32 -30 -30 -32 -32 -32\n",
      " -31 -31 -30 -32 -32 -32 -30 -33 -34 -34 -31 -30 -31 -32 -32 -29 -28 -30\n",
      " -31 -32 -30 -29 -31 -33 -32 -31 -29 -26 -28 -28 -28 -30 -28 -28 -29 -29\n",
      " -30 -29 -30 -34 -35 -34 -34 -35 -36 -34 -33 -31 -33 -34 -35 -33 -32 -29\n",
      " -30 -33 -32 -34 -35 -33 -33 -32 -34 -33 -33 -33 -35 -35 -33 -31 -31 -36\n",
      " -36 -36 -34 -33 -34 -35 -36 -34 -34 -35]\n",
      "(104592,)\n",
      "(104592,)\n",
      "[-1  0  2  2  0  0  2  4  0  0  2  2  2  5  2  0  3  4  2  1  2  2  4  5\n",
      "  5  3  5  6  3 -2  3  3  3  4  3  5  6  5  3  3  3  0  1  4  4  4  2  4\n",
      "  6  8  7  7  2  3  3  2  1  2  3  1  3 -1 -5 -1  3  0  0  2  4  1  1  3\n",
      "  4  5  6  8  9  7  9  9  8  6  5  3  7  6  7  9 11 12  8  6  9 12 11  7\n",
      "  8  6 11 17]\n",
      "[-1  0  2  2  0  0  2  4  0  0  2  2  2  5  2  0  3  4  2  1  2  2  4  5\n",
      "  5  3  5  6  3 -2  3  3  3  4  3  5  6  5  3  3  3  0  1  4  4  4  2  4\n",
      "  6  8  7  7  2  3  3  2  1  2  3  1  3 -1 -5 -1  3  0  0  2  4  1  1  3\n",
      "  4  5  6  8  9  7  9  9  8  6  5  3  7  6  7  9 11 12  8  6  9 12 11  7\n",
      "  8  6 11 17]\n",
      "(37273,)\n",
      "(37273,)\n",
      "[ 8  7  7  5  5  4  2  0  2  7  6  9  8  7  7  7  7  7  5  4  7  7 10 11\n",
      " 13 11 13 17 16 14 16 18 20 19 18 21 21 19 23 23 20 21 23 17 17 16 18 18\n",
      " 18 19 22 18 13 15 14 14 13 16 18 18 18 17 13 13 14 20 18 15 16 18 15 11\n",
      " 14 12 15 20 20 15 14 15 16 15 14 15 16 13 15 17 20 17 16 17 17 13 10 11\n",
      " 15 16 15 17]\n",
      "[ 8  7  7  5  5  4  2  0  2  7  6  9  8  7  7  7  7  7  5  4  7  7 10 11\n",
      " 13 11 13 17 16 14 16 18 20 19 18 21 21 19 23 23 20 21 23 17 17 16 18 18\n",
      " 18 19 22 18 13 15 14 14 13 16 18 18 18 17 13 13 14 20 18 15 16 18 15 11\n",
      " 14 12 15 20 20 15 14 15 16 15 14 15 16 13 15 17 20 17 16 17 17 13 10 11\n",
      " 15 16 15 17]\n",
      "(91825,)\n",
      "(91825,)\n",
      "[22 22 22 21 20 18 16 19 19 19 16 17 17 17 17 17 19 21 21 19 18 18 18 16\n",
      " 16 15 18 18 21 21 22 18 18 19 19 18 18 21 17 17 20 21 21 18 18 18 18 16\n",
      " 17 17 18 20 18 18 18 19 17 18 18 20 17 16 18 17 17 16 19 21 20 20 21 20\n",
      " 21 22 23 23 21 23 24 24 24 21 22 21 20 21 21 21 21 21 22 20 19 22 21 23\n",
      " 22 22 21 24]\n",
      "[22 22 22 21 20 18 16 19 19 19 16 17 17 17 17 17 19 21 21 19 18 18 18 16\n",
      " 16 15 18 18 21 21 22 18 18 19 19 18 18 21 17 17 20 21 21 18 18 18 18 16\n",
      " 17 17 18 20 18 18 18 19 17 18 18 20 17 16 18 17 17 16 19 21 20 20 21 20\n",
      " 21 22 23 23 21 23 24 24 24 21 22 21 20 21 21 21 21 21 22 20 19 22 21 23\n",
      " 22 22 21 24]\n",
      "(92466,)\n",
      "(92466,)\n",
      "[0 0 0 0 0 0 0 0 0 0 0 0 0 0 0 0 0 0 0 0 0 0 0 0 0 0 0 0 0 0 0 0 0 0 0 0 0\n",
      " 0 0 0 0 0 0 0 0 0 0 0 0 0 0 0 0 0 0 0 0 0 0 0 0 0 0 0 0 0 0 0 0 0 0 0 0 0\n",
      " 0 0 0 0 0 0 0 0 0 0 0 0 0 0 0 0 0 0 0 0 0 0 0 0 0 0]\n",
      "[0 0 0 0 0 0 0 0 0 0 0 0 0 0 0 0 0 0 0 0 0 0 0 0 0 0 0 0 0 0 0 0 0 0 0 0 0\n",
      " 0 0 0 0 0 0 0 0 0 0 0 0 0 0 0 0 0 0 0 0 0 0 0 0 0 0 0 0 0 0 0 0 0 0 0 0 0\n",
      " 0 0 0 0 0 0 0 0 0 0 0 0 0 0 0 0 0 0 0 0 0 0 0 0 0 0]\n",
      "(29795,)\n",
      "(29795,)\n",
      "[ 0  0  2  1 -2 -1 -1 -3  0  1 -1  0 -2 -2 -3 -4 -4 -3 -2 -5  0  0 -1 -3\n",
      " -4 -5 -2 -2 -2  0  0 -1 -4 -4 -3 -2 -2  0 -1  0 -2 -4 -4 -2 -4 -5 -9 -8\n",
      " -7 -6 -6 -9 -4 -3 -1 -2 -2 -2 -6 -4  1  0 -2 -2 -2 -8 -6 -9 -7 -3 -3 -3\n",
      "  0  1 -1 -2 -6 -7 -5 -6 -8 -6 -4 -4  0  1  3  3  1  2  3  2  0  2  2  6\n",
      "  6  6  4  3]\n",
      "[ 0  0  2  1 -2 -1 -1 -3  0  1 -1  0 -2 -2 -3 -4 -4 -3 -2 -5  0  0 -1 -3\n",
      " -4 -5 -2 -2 -2  0  0 -1 -4 -4 -3 -2 -2  0 -1  0 -2 -4 -4 -2 -4 -5 -9 -8\n",
      " -7 -6 -6 -9 -4 -3 -1 -2 -2 -2 -6 -4  1  0 -2 -2 -2 -8 -6 -9 -7 -3 -3 -3\n",
      "  0  1 -1 -2 -6 -7 -5 -6 -8 -6 -4 -4  0  1  3  3  1  2  3  2  0  2  2  6\n",
      "  6  6  4  3]\n",
      "(85734,)\n",
      "(85734,)\n",
      "[ -9  -7  -9  -7  -5  -6  -7  -5  -3  -6  -7  -4  -1   0  -3  -5  -3  -3\n",
      "  -3  -2  -4  -6  -6  -7  -5  -1  -3  -5  -6  -4  -3  -3  -3  -4  -1  -6\n",
      "  -3  -5  -6  -9  -5  -5  -6 -10  -8  -8  -7  -9  -6  -7  -6  -4  -7  -7\n",
      "  -6  -4  -5  -6  -4  -2  -1  -1  -1  -2  -2  -2  -2  -3  -5  -2  -2  -1\n",
      "  -3  -2  -2  -2  -4  -4   1   0  -2  -6  -5   0  -1  -3  -4  -6  -7  -3\n",
      "  -4  -5  -6  -6  -6  -5  -7  -7  -7  -7]\n",
      "[ -9  -7  -9  -7  -5  -6  -7  -5  -3  -6  -7  -4  -1   0  -3  -5  -3  -3\n",
      "  -3  -2  -4  -6  -6  -7  -5  -1  -3  -5  -6  -4  -3  -3  -3  -4  -1  -6\n",
      "  -3  -5  -6  -9  -5  -5  -6 -10  -8  -8  -7  -9  -6  -7  -6  -4  -7  -7\n",
      "  -6  -4  -5  -6  -4  -2  -1  -1  -1  -2  -2  -2  -2  -3  -5  -2  -2  -1\n",
      "  -3  -2  -2  -2  -4  -4   1   0  -2  -6  -5   0  -1  -3  -4  -6  -7  -3\n",
      "  -4  -5  -6  -6  -6  -5  -7  -7  -7  -7]\n",
      "(89066,)\n",
      "(89066,)\n",
      "[29 29 28 24 23 21 22 23 21 20 22 23 21 23 23 21 18 19 19 19 19 20 22 23\n",
      " 21 21 21 21 22 19 14 16 18 20 19 19 20 21 22 21 20 19 17 18 18 20 19 18\n",
      " 17 19 23 23 21 19 19 19 20 18 17 15 15 18 19 17 14 15 14 15 15 12 11 12\n",
      " 14 15 14 13 13 10  7  7  7  8 12 11 11  8  8 11 13  8  9  7  9 14 10 12\n",
      " 12 12 13 11]\n",
      "[29 29 28 24 23 21 22 23 21 20 22 23 21 23 23 21 18 19 19 19 19 20 22 23\n",
      " 21 21 21 21 22 19 14 16 18 20 19 19 20 21 22 21 20 19 17 18 18 20 19 18\n",
      " 17 19 23 23 21 19 19 19 20 18 17 15 15 18 19 17 14 15 14 15 15 12 11 12\n",
      " 14 15 14 13 13 10  7  7  7  8 12 11 11  8  8 11 13  8  9  7  9 14 10 12\n",
      " 12 12 13 11]\n",
      "(86612,)\n",
      "(86612,)\n",
      "[41 46 40 39 41 37 36 37 34 35 35 31 30 34 33 35 34 32 34 35 32 32 32 33\n",
      " 33 34 39 36 34 38 37 34 33 31 34 38 40 39 38 35 36 38 36 36 37 33 35 40\n",
      " 38 34 34 36 37 37 37 39 38 37 36 36 37 44 40 30 27 33 33 34 39 38 38 38\n",
      " 42 40 39 38 37 38 41 42 43 45 46 46 46 45 42 44 44 43 46 46 44 42 46 54\n",
      " 53 49 46 44]\n",
      "[41 46 40 39 41 37 36 37 34 35 35 31 30 34 33 35 34 32 34 35 32 32 32 33\n",
      " 33 34 39 36 34 38 37 34 33 31 34 38 40 39 38 35 36 38 36 36 37 33 35 40\n",
      " 38 34 34 36 37 37 37 39 38 37 36 36 37 44 40 30 27 33 33 34 39 38 38 38\n",
      " 42 40 39 38 37 38 41 42 43 45 46 46 46 45 42 44 44 43 46 46 44 42 46 54\n",
      " 53 49 46 44]\n",
      "(34249,)\n",
      "(34249,)\n",
      "[ 5  5  5  6  7  7  7  7  7  7  3  5  5  5  5  4  7  7  5  7  6  6  7  8\n",
      "  8  9  8  7  8  6  5  5  5  6  4  4  4  7  7  7  5  2  3  2  4  2  3  5\n",
      "  5  4  4  4  5  6  4  4  5  5  5  7  5  7  6  6  7  5  7  5  4  5  5  5\n",
      "  5  8  6  7  7  6  9 10  8  8 10 11 10  7  8  8  8 10  9  7  9  9  7  8\n",
      "  8 10 11  9]\n",
      "[ 5  5  5  6  7  7  7  7  7  7  3  5  5  5  5  4  7  7  5  7  6  6  7  8\n",
      "  8  9  8  7  8  6  5  5  5  6  4  4  4  7  7  7  5  2  3  2  4  2  3  5\n",
      "  5  4  4  4  5  6  4  4  5  5  5  7  5  7  6  6  7  5  7  5  4  5  5  5\n",
      "  5  8  6  7  7  6  9 10  8  8 10 11 10  7  8  8  8 10  9  7  9  9  7  8\n",
      "  8 10 11  9]\n",
      "(94393,)\n",
      "(94393,)\n",
      "[22 21 19 18 18 18 17 18 17 17 17 17 15 16 16 15 17 18 17 18 15 12 16 16\n",
      " 17 19 16 17 17 18 18 18 19 16 16 17 21 20 21 19 21 20 20 15 20 23 22 21\n",
      " 22 22 21 20 20 21 21 22 20 19 21 22 22 23 23 24 26 24 25 27 28 27 26 26\n",
      " 26 27 28 30 31 32 32 33 31 29 31 32 31 29 31 29 28 28 31 31 31 32 29 28\n",
      " 31 32 30 27]\n",
      "[22 21 19 18 18 18 17 18 17 17 17 17 15 16 16 15 17 18 17 18 15 12 16 16\n",
      " 17 19 16 17 17 18 18 18 19 16 16 17 21 20 21 19 21 20 20 15 20 23 22 21\n",
      " 22 22 21 20 20 21 21 22 20 19 21 22 22 23 23 24 26 24 25 27 28 27 26 26\n",
      " 26 27 28 30 31 32 32 33 31 29 31 32 31 29 31 29 28 28 31 31 31 32 29 28\n",
      " 31 32 30 27]\n",
      "(37582,)\n",
      "(37582,)\n",
      "[46 49 45 42 42 45 43 40 41 42 41 39 41 38 40 39 40 42 41 43 41 40 40 41\n",
      " 41 40 41 42 43 42 41 40 44 43 42 43 41 42 42 39 40 39 43 43 44 43 41 42\n",
      " 42 41 41 39 40 39 40 41 42 42 44 43 42 43 44 40 40 41 44 44 44 43 41 42\n",
      " 45 43 43 44 42 45 45 42 44 46 44 42 43 44 40 41 42 43 44 43 45 44 46 47\n",
      " 47 45 45 47]\n",
      "[46 49 45 42 42 45 43 40 41 42 41 39 41 38 40 39 40 42 41 43 41 40 40 41\n",
      " 41 40 41 42 43 42 41 40 44 43 42 43 41 42 42 39 40 39 43 43 44 43 41 42\n",
      " 42 41 41 39 40 39 40 41 42 42 44 43 42 43 44 40 40 41 44 44 44 43 41 42\n",
      " 45 43 43 44 42 45 45 42 44 46 44 42 43 44 40 41 42 43 44 43 45 44 46 47\n",
      " 47 45 45 47]\n",
      "(89356,)\n",
      "(89356,)\n",
      "[-1392 -1613 -1690 -1692 -1611 -1475 -1491 -1611 -1665 -1611 -1441 -1426\n",
      " -1804 -2208 -2239 -2049 -1909 -1939 -2139 -2296 -2245 -2204 -2406 -2647\n",
      " -2613 -2395 -2281 -2338 -2463 -2399 -1970 -1545 -1511 -1712 -1842 -1807\n",
      " -1685 -1662 -1642 -1304  -769  -477  -513  -582  -454  -170    14  -139\n",
      "  -510  -660  -405  -102   -30   -38    90   402   682   614   289   142\n",
      "   347   717   975  1005   984  1128  1403  1675  1862  1927  1905  1933\n",
      "  2063  2215  2362  2493  2503  2442  2513  2624  2540  2326  2124  2029\n",
      "  2122  2270  2232  2023  1882  1896  1893  1695  1390  1178  1116  1116\n",
      "  1045   908   885  1023]\n",
      "[-1392 -1613 -1690 -1692 -1611 -1475 -1491 -1611 -1665 -1611 -1441 -1426\n",
      " -1804 -2208 -2239 -2049 -1909 -1939 -2139 -2296 -2245 -2204 -2406 -2647\n",
      " -2613 -2395 -2281 -2338 -2463 -2399 -1970 -1545 -1511 -1712 -1842 -1807\n",
      " -1685 -1662 -1642 -1304  -769  -477  -513  -582  -454  -170    14  -139\n",
      "  -510  -660  -405  -102   -30   -38    90   402   682   614   289   142\n",
      "   347   717   975  1005   984  1128  1403  1675  1862  1927  1905  1933\n",
      "  2063  2215  2362  2493  2503  2442  2513  2624  2540  2326  2124  2029\n",
      "  2122  2270  2232  2023  1882  1896  1893  1695  1390  1178  1116  1116\n",
      "  1045   908   885  1023]\n",
      "(26271,)\n",
      "(26271,)\n",
      "[18 18 16 16 17 15 14 15 16 19 17 14 15 14 15 15 16 16 18 19 18 19 17 17\n",
      " 17 19 19 20 16 17 17 18 17 17 18 19 19 21 20 20 21 19 23 21 21 19 18 18\n",
      " 19 16 14 17 19 18 21 20 18 20 21 17 18 18 17 21 20 19 20 20 21 22 21 25\n",
      " 24 23 20 22 19 19 18 19 21 19 18 19 15 19 21 20 22 20 17 16 15 15 16 21\n",
      " 22 19 20 18]\n",
      "[18 18 16 16 17 15 14 15 16 19 17 14 15 14 15 15 16 16 18 19 18 19 17 17\n",
      " 17 19 19 20 16 17 17 18 17 17 18 19 19 21 20 20 21 19 23 21 21 19 18 18\n",
      " 19 16 14 17 19 18 21 20 18 20 21 17 18 18 17 21 20 19 20 20 21 22 21 25\n",
      " 24 23 20 22 19 19 18 19 21 19 18 19 15 19 21 20 22 20 17 16 15 15 16 21\n",
      " 22 19 20 18]\n",
      "(83990,)\n",
      "(83990,)\n",
      "[-21 -22 -20 -20 -19 -19 -22 -24 -22 -19 -20 -18 -17 -17 -16 -16 -17 -19\n",
      " -16 -15 -15 -17 -17 -20 -19 -18 -19 -16 -14 -15 -15 -13 -16 -16 -14 -18\n",
      " -19 -23 -24 -22 -18 -19 -19 -19 -18 -18 -19 -18 -18 -14 -14 -13 -13 -15\n",
      " -18 -17 -15 -15 -15 -13 -14 -14 -12 -10 -10  -9 -10 -10  -9 -12 -16 -15\n",
      " -12 -12 -18 -16 -12 -14 -14 -16 -20 -23 -18 -23 -26 -23 -20 -20 -23 -30\n",
      " -34 -33 -26 -25 -27 -26 -24 -29 -34 -36]\n",
      "[-21 -22 -20 -20 -19 -19 -22 -24 -22 -19 -20 -18 -17 -17 -16 -16 -17 -19\n",
      " -16 -15 -15 -17 -17 -20 -19 -18 -19 -16 -14 -15 -15 -13 -16 -16 -14 -18\n",
      " -19 -23 -24 -22 -18 -19 -19 -19 -18 -18 -19 -18 -18 -14 -14 -13 -13 -15\n",
      " -18 -17 -15 -15 -15 -13 -14 -14 -12 -10 -10  -9 -10 -10  -9 -12 -16 -15\n",
      " -12 -12 -18 -16 -12 -14 -14 -16 -20 -23 -18 -23 -26 -23 -20 -20 -23 -30\n",
      " -34 -33 -26 -25 -27 -26 -24 -29 -34 -36]\n",
      "(30744,)\n",
      "(30744,)\n",
      "[ 12  13  14  10  10  12  12  11   9   8  10  13  13  13  12  14  14  12\n",
      "  10   9   9  11  13  10   9  10   6   7  10   7   4   4   4   2   7   2\n",
      "   2   6   6   6   7   9   7   8   7   5   4   4   1   3   5   3   4   6\n",
      "   3   4   5   4   8   8   7   3  -3  -4  -1  -1   0   1  -2  -3   0  -1\n",
      "  -3  -4  -5  -3  -5 -11  -8  -2  -3  -3   0   1  -1  -3  -4  -5  -5  -3\n",
      "  -2   0   1  -2   0   0   0   1   0  -2]\n",
      "[ 12  13  14  10  10  12  12  11   9   8  10  13  13  13  12  14  14  12\n",
      "  10   9   9  11  13  10   9  10   6   7  10   7   4   4   4   2   7   2\n",
      "   2   6   6   6   7   9   7   8   7   5   4   4   1   3   5   3   4   6\n",
      "   3   4   5   4   8   8   7   3  -3  -4  -1  -1   0   1  -2  -3   0  -1\n",
      "  -3  -4  -5  -3  -5 -11  -8  -2  -3  -3   0   1  -1  -3  -4  -5  -5  -3\n",
      "  -2   0   1  -2   0   0   0   1   0  -2]\n",
      "(31815,)\n",
      "(31815,)\n"
     ]
    },
    {
     "ename": "IsADirectoryError",
     "evalue": "[Errno 21] Is a directory: '.ipynb_checkpoints'",
     "output_type": "error",
     "traceback": [
      "\u001b[0;31m---------------------------------------------------------------------------\u001b[0m",
      "\u001b[0;31mIsADirectoryError\u001b[0m                         Traceback (most recent call last)",
      "\u001b[0;32m<ipython-input-2-2678d55f6f9b>\u001b[0m in \u001b[0;36m<module>\u001b[0;34m\u001b[0m\n\u001b[1;32m      2\u001b[0m \u001b[0mfiles\u001b[0m \u001b[0;34m=\u001b[0m \u001b[0mos\u001b[0m\u001b[0;34m.\u001b[0m\u001b[0mlistdir\u001b[0m\u001b[0;34m(\u001b[0m\u001b[0;34m)\u001b[0m\u001b[0;34m\u001b[0m\u001b[0;34m\u001b[0m\u001b[0m\n\u001b[1;32m      3\u001b[0m \u001b[0;32mfor\u001b[0m \u001b[0mi\u001b[0m \u001b[0;32min\u001b[0m \u001b[0mfiles\u001b[0m\u001b[0;34m:\u001b[0m\u001b[0;34m\u001b[0m\u001b[0;34m\u001b[0m\u001b[0m\n\u001b[0;32m----> 4\u001b[0;31m     \u001b[0;34m(\u001b[0m\u001b[0msample_rate1\u001b[0m\u001b[0;34m,\u001b[0m\u001b[0maudio1\u001b[0m\u001b[0;34m)\u001b[0m \u001b[0;34m=\u001b[0m \u001b[0mwav\u001b[0m\u001b[0;34m.\u001b[0m\u001b[0mread\u001b[0m\u001b[0;34m(\u001b[0m\u001b[0mi\u001b[0m\u001b[0;34m)\u001b[0m \u001b[0;31m## Apple sound First\u001b[0m\u001b[0;34m\u001b[0m\u001b[0;34m\u001b[0m\u001b[0m\n\u001b[0m\u001b[1;32m      5\u001b[0m     \u001b[0;34m(\u001b[0m\u001b[0msample_rate2\u001b[0m\u001b[0;34m,\u001b[0m\u001b[0maudio2\u001b[0m\u001b[0;34m)\u001b[0m \u001b[0;34m=\u001b[0m \u001b[0mwav\u001b[0m\u001b[0;34m.\u001b[0m\u001b[0mread\u001b[0m\u001b[0;34m(\u001b[0m\u001b[0mi\u001b[0m\u001b[0;34m)\u001b[0m \u001b[0;31m## Apple sound Second\u001b[0m\u001b[0;34m\u001b[0m\u001b[0;34m\u001b[0m\u001b[0m\n\u001b[1;32m      6\u001b[0m     \u001b[0mprint\u001b[0m\u001b[0;34m(\u001b[0m\u001b[0maudio1\u001b[0m\u001b[0;34m[\u001b[0m\u001b[0;36m0\u001b[0m \u001b[0;34m:\u001b[0m\u001b[0;36m100\u001b[0m\u001b[0;34m]\u001b[0m\u001b[0;34m)\u001b[0m\u001b[0;34m\u001b[0m\u001b[0;34m\u001b[0m\u001b[0m\n",
      "\u001b[0;32m~/anaconda3/lib/python3.7/site-packages/scipy/io/wavfile.py\u001b[0m in \u001b[0;36mread\u001b[0;34m(filename, mmap)\u001b[0m\n\u001b[1;32m    231\u001b[0m         \u001b[0mmmap\u001b[0m \u001b[0;34m=\u001b[0m \u001b[0;32mFalse\u001b[0m\u001b[0;34m\u001b[0m\u001b[0;34m\u001b[0m\u001b[0m\n\u001b[1;32m    232\u001b[0m     \u001b[0;32melse\u001b[0m\u001b[0;34m:\u001b[0m\u001b[0;34m\u001b[0m\u001b[0;34m\u001b[0m\u001b[0m\n\u001b[0;32m--> 233\u001b[0;31m         \u001b[0mfid\u001b[0m \u001b[0;34m=\u001b[0m \u001b[0mopen\u001b[0m\u001b[0;34m(\u001b[0m\u001b[0mfilename\u001b[0m\u001b[0;34m,\u001b[0m \u001b[0;34m'rb'\u001b[0m\u001b[0;34m)\u001b[0m\u001b[0;34m\u001b[0m\u001b[0;34m\u001b[0m\u001b[0m\n\u001b[0m\u001b[1;32m    234\u001b[0m \u001b[0;34m\u001b[0m\u001b[0m\n\u001b[1;32m    235\u001b[0m     \u001b[0;32mtry\u001b[0m\u001b[0;34m:\u001b[0m\u001b[0;34m\u001b[0m\u001b[0;34m\u001b[0m\u001b[0m\n",
      "\u001b[0;31mIsADirectoryError\u001b[0m: [Errno 21] Is a directory: '.ipynb_checkpoints'"
     ]
    }
   ],
   "source": [
    "import os\n",
    "files = os.listdir()\n",
    "for i in files:\n",
    "    (sample_rate1,audio1) = wav.read(i) ## Apple sound First\n",
    "    (sample_rate2,audio2) = wav.read(i) ## Apple sound Second\n",
    "    print(audio1[0 :100])\n",
    "    print(audio2[0 :100])\n",
    "    print(audio1.shape)\n",
    "    print(audio2.shape)"
   ]
  },
  {
   "cell_type": "code",
   "execution_count": 0,
   "metadata": {
    "colab": {},
    "colab_type": "code",
    "id": "MznnjBy3GtM4"
   },
   "outputs": [],
   "source": [
    "print(\"sample_rate1 :\", sample_rate1)\n",
    "print(\"audio1 size :\",audio1.size)\n",
    "print(\"Time Duration : \",audio1.size/float(sample_rate1))\n",
    "print(\"sample_rate2 :\", sample_rate2)\n",
    "print(\"audio2 size :\",audio2.size)\n",
    "print(\"Time Duration : \",audio2.size/float(sample_rate2))\n"
   ]
  },
  {
   "cell_type": "code",
   "execution_count": 0,
   "metadata": {
    "colab": {},
    "colab_type": "code",
    "id": "B85r_B8UG6HE"
   },
   "outputs": [],
   "source": [
    "t1 = np.arange(audio1.size)/float(sample_rate1)\n",
    "t2 = np.arange(audio2.size)/float(sample_rate2)\n"
   ]
  },
  {
   "cell_type": "code",
   "execution_count": 0,
   "metadata": {
    "colab": {},
    "colab_type": "code",
    "id": "NwDfxSzdOFev"
   },
   "outputs": [],
   "source": [
    "plt.plot(t1,audio1)\n",
    "plt.title(\"Apple First\")\n",
    "plt.xlabel(\"Time(S)\")\n",
    "plt.ylabel(\"Amplitude\")\n",
    "plt.show()\n",
    "plt.plot(t2,audio2)\n",
    "plt.title(\"Apple Second\")\n",
    "plt.xlabel(\"Time(S)\")\n",
    "plt.ylabel(\"Amplitude\")\n",
    "plt.show()"
   ]
  },
  {
   "cell_type": "code",
   "execution_count": 0,
   "metadata": {
    "colab": {},
    "colab_type": "code",
    "id": "jLq5lonwFYeX"
   },
   "outputs": [],
   "source": [
    "first = np.array([])\n",
    "second = np.array([])\n",
    "for i in audio1:\n",
    "  if i > 2200 or i < -2200:\n",
    "    first = np.append(first,i)\n",
    "  else:\n",
    "    first = np.append(first,0)\n",
    "for i in audio2:\n",
    "  if i > 2200 or i < -2200:\n",
    "    second = np.append(second,i)\n",
    "  else:\n",
    "    second = np.append(second,0)\n",
    "\n",
    "print(first.shape)\n",
    "print(second.shape)\n"
   ]
  },
  {
   "cell_type": "code",
   "execution_count": 0,
   "metadata": {
    "colab": {},
    "colab_type": "code",
    "id": "NwTW4kyjHOKx"
   },
   "outputs": [],
   "source": [
    "plt.plot(t1,first)\n",
    "plt.title(\"Apple First\")\n",
    "plt.xlabel(\"Time(S)\")\n",
    "plt.ylabel(\"Amplitude\")\n",
    "plt.show()\n",
    "plt.plot(t2,second)\n",
    "plt.title(\"Apple Second\")\n",
    "plt.xlabel(\"Time(S)\")\n",
    "plt.ylabel(\"Amplitude\")\n",
    "plt.show()"
   ]
  },
  {
   "cell_type": "code",
   "execution_count": 0,
   "metadata": {
    "colab": {},
    "colab_type": "code",
    "id": "N1C8fm8WPAdJ"
   },
   "outputs": [],
   "source": [
    "def normalize_audio(audio):\n",
    "    audio = audio / np.max(np.abs(audio))\n",
    "    return audio"
   ]
  },
  {
   "cell_type": "markdown",
   "metadata": {
    "colab_type": "text",
    "id": "wi9ucU4ATwIO"
   },
   "source": [
    "#normalization\n"
   ]
  },
  {
   "cell_type": "code",
   "execution_count": 0,
   "metadata": {
    "colab": {},
    "colab_type": "code",
    "id": "0ZxzxJp8RNtk"
   },
   "outputs": [],
   "source": [
    "normalized_signal1 = normalize_audio(first)\n",
    "normalized_signal2 = normalize_audio(second)\n"
   ]
  },
  {
   "cell_type": "code",
   "execution_count": 0,
   "metadata": {
    "colab": {},
    "colab_type": "code",
    "id": "C43eZgIMSJcx"
   },
   "outputs": [],
   "source": [
    "plt.plot(t1,normalized_signal1)\n",
    "plt.title(\"Apple First\")\n",
    "plt.xlabel(\"Time(S)\")\n",
    "plt.ylabel(\"Amplitude\")\n",
    "plt.show()\n",
    "plt.plot(t2,normalized_signal2)\n",
    "plt.title(\"Apple Second\")\n",
    "plt.xlabel(\"Time(S)\")\n",
    "plt.ylabel(\"Amplitude\")\n",
    "plt.show()\n"
   ]
  },
  {
   "cell_type": "markdown",
   "metadata": {
    "colab_type": "text",
    "id": "hirqINyxVI2y"
   },
   "source": [
    "#Framing\n",
    "An audio signal is assumed to be changing contantly.so to simplify things we assume that on short time scales the audio signal doesn't change much (when we say it doesn't change, we mean statistically i.e. statistically stationary, obviously the samples are constantly changing on even short time scales). Typical frame sizes in speech processing range from 20 ms to 40 ms with 50% (+/-10%) overlap between consecutive frames. Popular settings are 25 ms for the frame size\n",
    "      frame_size = 0.025\n",
    "      frame_stride = 0.01(10ms)\n",
    "The step between successive frames in seconds is called frame_stride. Default is0.02s (means no overlap)"
   ]
  },
  {
   "cell_type": "code",
   "execution_count": 0,
   "metadata": {
    "colab": {},
    "colab_type": "code",
    "id": "nt6krRZEVEF-"
   },
   "outputs": [],
   "source": [
    "def frame_audio(audio, FFT_size=2048, hop_size=10, sample_rate=16000):\n",
    "    # hop_size in ms\n",
    "    \n",
    "    audio = np.pad(audio, int(FFT_size / 2), mode='reflect')\n",
    "    frame_len = np.round(sample_rate * hop_size / 1000).astype(int)\n",
    "    frame_num = int((len(audio) - FFT_size) / frame_len) + 1\n",
    "    frames = np.zeros((frame_num,FFT_size))\n",
    "    \n",
    "    for n in range(frame_num):\n",
    "        frames[n] = audio[n*frame_len:n*frame_len+FFT_size]\n",
    "    \n",
    "    return frames\n"
   ]
  },
  {
   "cell_type": "code",
   "execution_count": 0,
   "metadata": {
    "colab": {},
    "colab_type": "code",
    "id": "G3p2ukzYa7cy"
   },
   "outputs": [],
   "source": [
    "hop_size = 15 #ms\n",
    "FFT_size = 2048\n",
    "\n",
    "audio_framed1 = frame_audio(normalized_signal1, FFT_size=FFT_size, hop_size=hop_size, sample_rate=sample_rate1)\n",
    "print(\"Framed audio shape1: {0}\".format(audio_framed1.shape))\n",
    "audio_framed2 = frame_audio(normalized_signal2, FFT_size=FFT_size, hop_size=hop_size, sample_rate=sample_rate2)\n",
    "print(\"Framed audio shape2: {0}\".format(audio_framed2.shape))"
   ]
  },
  {
   "cell_type": "markdown",
   "metadata": {
    "colab_type": "text",
    "id": "osK-Dvx4cmgI"
   },
   "source": [
    "Now we have framed audio matrix with the size of frame number X FFT size.\n"
   ]
  },
  {
   "cell_type": "code",
   "execution_count": 0,
   "metadata": {
    "colab": {},
    "colab_type": "code",
    "id": "cwMtbGA7couy"
   },
   "outputs": [],
   "source": [
    "print(\"First frame of first audio signal:\")\n",
    "audio_framed1[1]\n"
   ]
  },
  {
   "cell_type": "code",
   "execution_count": 0,
   "metadata": {
    "colab": {},
    "colab_type": "code",
    "id": "-EdinKHTm5TW"
   },
   "outputs": [],
   "source": [
    "print(\"second frame of second audio signal:\")\n",
    "audio_framed2[2]\n"
   ]
  },
  {
   "cell_type": "code",
   "execution_count": 0,
   "metadata": {
    "colab": {},
    "colab_type": "code",
    "id": "x3c-oGlFm81Y"
   },
   "outputs": [],
   "source": [
    "print(\"Last frame:\")\n",
    "audio_framed1[-1]"
   ]
  },
  {
   "cell_type": "code",
   "execution_count": 0,
   "metadata": {
    "colab": {},
    "colab_type": "code",
    "id": "KXUbN1jUnaSW"
   },
   "outputs": [],
   "source": [
    "print(\"Last frame:\")\n",
    "audio_framed2[-1]"
   ]
  },
  {
   "cell_type": "markdown",
   "metadata": {
    "colab_type": "text",
    "id": "sijq_aObngsQ"
   },
   "source": [
    "By framing the signal we assured the audio to be periodic. To make the audio continues, we apply a window function on every frame. If we wont do that, We will get high frequency distortions. To overcome this, we first need to apply a window function to the framed audio and then perform FFT. The window assures that both ends of the signal will end close to zero. we apply a window function such as the Hamming window to each frame. A Hamming window has the following form:\n",
    "\n",
    "    w[n] = 0.54 -0.46cos(2πn/N-1)\n",
    "    where, 0≤n≤N−1, N is the window length"
   ]
  },
  {
   "cell_type": "code",
   "execution_count": 0,
   "metadata": {
    "colab": {},
    "colab_type": "code",
    "id": "w4rSV6phoJy5"
   },
   "outputs": [],
   "source": [
    "window = get_window(\"hann\", FFT_size, fftbins=True)\n",
    "plt.figure(figsize=(15,4))\n",
    "plt.title(\"Hamming Window\")\n",
    "plt.xlabel(\"sample\")\n",
    "plt.ylabel(\"Amplitude\")\n",
    "plt.plot(window)\n",
    "plt.grid(True)"
   ]
  },
  {
   "cell_type": "code",
   "execution_count": 0,
   "metadata": {
    "colab": {},
    "colab_type": "code",
    "id": "4niE_NEYrGgM"
   },
   "outputs": [],
   "source": [
    "audio_win1 = audio_framed1 * window\n",
    "\n",
    "ind = 69\n",
    "plt.figure(figsize=(15,6))\n",
    "plt.subplot(2, 1, 1)\n",
    "plt.plot(audio_framed1[ind])\n",
    "plt.title('Original Frame')\n",
    "plt.grid(True)\n",
    "plt.subplot(2, 1, 2)\n",
    "plt.plot(audio_win1[ind])\n",
    "plt.title('Frame After Windowing')\n",
    "plt.grid(True)\n"
   ]
  },
  {
   "cell_type": "code",
   "execution_count": 0,
   "metadata": {
    "colab": {},
    "colab_type": "code",
    "id": "N7XHvyYerbfj"
   },
   "outputs": [],
   "source": [
    "audio_win2 = audio_framed2 * window\n",
    "\n",
    "ind = 69\n",
    "plt.figure(figsize=(15,6))\n",
    "plt.subplot(2, 1, 1)\n",
    "plt.plot(audio_framed2[ind])\n",
    "plt.title('Original Frame')\n",
    "plt.grid(True)\n",
    "plt.subplot(2, 1, 2)\n",
    "plt.plot(audio_win2[ind])\n",
    "plt.title('Frame After Windowing')\n",
    "plt.grid(True)\n"
   ]
  },
  {
   "cell_type": "markdown",
   "metadata": {
    "colab_type": "text",
    "id": "cm5GMd1_sRbf"
   },
   "source": [
    "In the plot above both ends of the frame end on different places on the y axis. window brought the edges of each frame closer to zero. Now lets perform the FFT.We can now do an N-point FFT on each frame to calculate the frequency spectrum, which is also called Short-Time Fourier-Transform (STFT), where N is typically 256 or 512, NFFT = 512.\n"
   ]
  },
  {
   "cell_type": "code",
   "execution_count": 0,
   "metadata": {
    "colab": {},
    "colab_type": "code",
    "id": "Q90xN1Z_s4LZ"
   },
   "outputs": [],
   "source": [
    "audio_winT1 = np.transpose(audio_win1)\n",
    "\n",
    "audio_fft1 = np.empty((int(1 + FFT_size // 2), audio_winT1.shape[1]), dtype=np.complex64, order='F')\n",
    "\n",
    "for n in range(audio_fft1.shape[1]):\n",
    "    audio_fft1[:, n] = fft.fft(audio_winT1[:, n], axis=0)[:audio_fft1.shape[0]]\n",
    "\n",
    "audio_fft1= np.transpose(audio_fft1)"
   ]
  },
  {
   "cell_type": "code",
   "execution_count": 0,
   "metadata": {
    "colab": {},
    "colab_type": "code",
    "id": "QykPFur9uGOp"
   },
   "outputs": [],
   "source": [
    "audio_winT2 = np.transpose(audio_win2)\n",
    "\n",
    "audio_fft2 = np.empty((int(1 + FFT_size // 2), audio_winT2.shape[1]), dtype=np.complex64, order='F')\n",
    "\n",
    "for n in range(audio_fft2.shape[1]):\n",
    "    audio_fft2[:, n] = fft.fft(audio_winT2[:, n], axis=0)[:audio_fft2.shape[0]]\n",
    "\n",
    "audio_fft2= np.transpose(audio_fft2)"
   ]
  },
  {
   "cell_type": "markdown",
   "metadata": {
    "colab_type": "text",
    "id": "rAy2twx6z3bo"
   },
   "source": [
    "#Calculate signal power"
   ]
  },
  {
   "cell_type": "code",
   "execution_count": 0,
   "metadata": {
    "colab": {},
    "colab_type": "code",
    "id": "NW715jXJz8wY"
   },
   "outputs": [],
   "source": [
    "audio_power1 = np.square(np.abs(audio_fft1))\n",
    "print(audio_power1.shape)\n",
    "audio_power2 = np.square(np.abs(audio_fft2))\n",
    "print(audio_power2.shape)"
   ]
  },
  {
   "cell_type": "markdown",
   "metadata": {
    "colab_type": "text",
    "id": "cOdbOKp40lfY"
   },
   "source": [
    "# MEL-spaced filterbank\n",
    "Here we compute the MEL-spaced filterbank and then pass the framed audio through them. That will give us information about the power in each frequency band. The filters can be constructed for any frequency band but for our example we will look on the entire sampled band. What spessial with the MEL-spaced filterbank is the spacing between the filters which grows exponentially with frequency. The filterbank can be made for any frequency band. Here we will compute the filterbank for the entire frequency band."
   ]
  },
  {
   "cell_type": "code",
   "execution_count": 0,
   "metadata": {
    "colab": {},
    "colab_type": "code",
    "id": "HCxnzqcN0iE9"
   },
   "outputs": [],
   "source": [
    "freq_min = 0\n",
    "freq_high1 = sample_rate1 / 2\n",
    "freq_high2 = sample_rate2/2\n",
    "mel_filter_num = 10\n",
    "\n",
    "print(\"Minimum frequency  of first audio signal: {0}\".format(freq_min))\n",
    "print(\"Maximum frequency first audio signal: {0}\".format(freq_high1))\n",
    "print(\"Minimum frequency second audio signal: {0}\".format(freq_min))\n",
    "print(\"Maximum frequency second audio signal: {0}\".format(freq_high2))"
   ]
  },
  {
   "cell_type": "markdown",
   "metadata": {
    "colab_type": "text",
    "id": "ShWq0BDA2HJR"
   },
   "source": [
    "#Compute filter points"
   ]
  },
  {
   "cell_type": "code",
   "execution_count": 0,
   "metadata": {
    "colab": {},
    "colab_type": "code",
    "id": "LsYgI2Nr1yeh"
   },
   "outputs": [],
   "source": [
    "def freq_to_mel(freq):\n",
    "    return 2595.0 * np.log10(1.0 + freq / 700.0)\n",
    "\n",
    "def met_to_freq(mels):\n",
    "    return 700.0 * (10.0**(mels / 2595.0) - 1.0)\n"
   ]
  },
  {
   "cell_type": "code",
   "execution_count": 0,
   "metadata": {
    "colab": {},
    "colab_type": "code",
    "id": "Ds41J7sI2cZQ"
   },
   "outputs": [],
   "source": [
    "def get_filter_points(fmin, fmax, mel_filter_num, FFT_size, sample_rate=16000):\n",
    "    fmin_mel = freq_to_mel(fmin)\n",
    "    fmax_mel = freq_to_mel(fmax)\n",
    "    \n",
    "    print(\"MEL min: {0}\".format(fmin_mel))\n",
    "    print(\"MEL max: {0}\".format(fmax_mel))\n",
    "    \n",
    "    mels = np.linspace(fmin_mel, fmax_mel, num=mel_filter_num+2)\n",
    "    freqs = met_to_freq(mels)\n",
    "    \n",
    "    return np.floor((FFT_size + 1) / sample_rate * freqs).astype(int), freqs\n"
   ]
  },
  {
   "cell_type": "code",
   "execution_count": 0,
   "metadata": {
    "colab": {},
    "colab_type": "code",
    "id": "YVHu5BkZ4Jcm"
   },
   "outputs": [],
   "source": [
    "filter_points1, mel_freqs1 = get_filter_points(freq_min, freq_high1, mel_filter_num, FFT_size, sample_rate=16000)\n",
    "filter_points1\n"
   ]
  },
  {
   "cell_type": "code",
   "execution_count": 0,
   "metadata": {
    "colab": {},
    "colab_type": "code",
    "id": "o9OI1JSo5Wn1"
   },
   "outputs": [],
   "source": [
    "filter_points2, mel_freqs2 = get_filter_points(freq_min, freq_high2, mel_filter_num, FFT_size, sample_rate=44100)\n",
    "filter_points2\n"
   ]
  },
  {
   "cell_type": "markdown",
   "metadata": {
    "colab_type": "text",
    "id": "V5osGfS77qhN"
   },
   "source": [
    "#Construct the filterbank\n",
    "After we have the filter points, we construct the filters.\n"
   ]
  },
  {
   "cell_type": "code",
   "execution_count": 0,
   "metadata": {
    "colab": {},
    "colab_type": "code",
    "id": "EUI2jp027jYX"
   },
   "outputs": [],
   "source": [
    "def get_filters(filter_points, FFT_size):\n",
    "    filters = np.zeros((len(filter_points)-2,int(FFT_size/2+1)))\n",
    "    \n",
    "    for n in range(len(filter_points)-2):\n",
    "        filters[n, filter_points[n] : filter_points[n + 1]] = np.linspace(0, 1, filter_points[n + 1] - filter_points[n])\n",
    "        filters[n, filter_points[n + 1] : filter_points[n + 2]] = np.linspace(1, 0, filter_points[n + 2] - filter_points[n + 1])\n",
    "    \n",
    "    return filters"
   ]
  },
  {
   "cell_type": "code",
   "execution_count": 0,
   "metadata": {
    "colab": {},
    "colab_type": "code",
    "id": "XXA4zlEC8Fw3"
   },
   "outputs": [],
   "source": [
    "filters1 = get_filters(filter_points1, FFT_size)\n",
    "\n",
    "plt.figure(figsize=(15,4))\n",
    "plt.title(\"audio1\")\n",
    "for n in range(filters1.shape[0]):\n",
    "    plt.plot(filters1[n])\n",
    "\n"
   ]
  },
  {
   "cell_type": "code",
   "execution_count": 0,
   "metadata": {
    "colab": {},
    "colab_type": "code",
    "id": "g84MXDb788rA"
   },
   "outputs": [],
   "source": [
    "filters2 = get_filters(filter_points2, FFT_size)\n",
    "\n",
    "plt.figure(figsize=(15,4))\n",
    "plt.title(\"audio2\")\n",
    "for n in range(filters2.shape[0]):\n",
    "    plt.plot(filters2[n])\n",
    "\n"
   ]
  },
  {
   "cell_type": "markdown",
   "metadata": {
    "colab_type": "text",
    "id": "VBIcwM-c96z6"
   },
   "source": [
    "Next we divide the triangular MEL weights by the width of the MEL band (area normalization). If we wont normalize the filters, we will see the noise increase with frequency because of the filter width."
   ]
  },
  {
   "cell_type": "code",
   "execution_count": 0,
   "metadata": {
    "colab": {},
    "colab_type": "code",
    "id": "ovQTQ0Qi9d9b"
   },
   "outputs": [],
   "source": [
    "enorm1 = 2.0 / (mel_freqs1[2:mel_filter_num+2] - mel_freqs1[:mel_filter_num])\n",
    "filters1 *= enorm1[:, np.newaxis]\n"
   ]
  },
  {
   "cell_type": "code",
   "execution_count": 0,
   "metadata": {
    "colab": {},
    "colab_type": "code",
    "id": "voGElW_9-iVX"
   },
   "outputs": [],
   "source": [
    "plt.figure(figsize=(15,4))\n",
    "plt.title(\"audio1\")\n",
    "for n in range(filters1.shape[0]):\n",
    "    plt.plot(filters1[n])\n",
    "\n"
   ]
  },
  {
   "cell_type": "code",
   "execution_count": 0,
   "metadata": {
    "colab": {},
    "colab_type": "code",
    "id": "dLOghVMs-74T"
   },
   "outputs": [],
   "source": [
    "enorm2 = 2.0 / (mel_freqs2[2:mel_filter_num+2] - mel_freqs2[:mel_filter_num])\n",
    "filters2 *= enorm2[:, np.newaxis]\n"
   ]
  },
  {
   "cell_type": "code",
   "execution_count": 0,
   "metadata": {
    "colab": {},
    "colab_type": "code",
    "id": "VcAy2LT--ysM"
   },
   "outputs": [],
   "source": [
    "plt.figure(figsize=(15,4))\n",
    "for n in range(filters2.shape[0]):\n",
    "    plt.plot(filters2[n])\n",
    "\n"
   ]
  },
  {
   "cell_type": "markdown",
   "metadata": {
    "colab_type": "text",
    "id": "oID9ExBNB1ts"
   },
   "source": [
    "#filter the signal\n"
   ]
  },
  {
   "cell_type": "code",
   "execution_count": 0,
   "metadata": {
    "colab": {},
    "colab_type": "code",
    "id": "SljzmTx6B6Ac"
   },
   "outputs": [],
   "source": [
    "audio_filtered1 = np.dot(filters1, np.transpose(audio_power1))\n",
    "audio_log1 = 10.0 * np.log10(audio_filtered1)\n",
    "audio_log1.shape\n"
   ]
  },
  {
   "cell_type": "code",
   "execution_count": 0,
   "metadata": {
    "colab": {},
    "colab_type": "code",
    "id": "ZggGm_3PDELw"
   },
   "outputs": [],
   "source": [
    "audio_filtered2 = np.dot(filters2, np.transpose(audio_power2))\n",
    "audio_log2 = 10.0 * np.log10(audio_filtered2)\n",
    "audio_log2.shape\n"
   ]
  },
  {
   "cell_type": "code",
   "execution_count": 0,
   "metadata": {
    "colab": {},
    "colab_type": "code",
    "id": "fNfQqnSODNcr"
   },
   "outputs": [],
   "source": [
    "def dct(dct_filter_num, filter_len):\n",
    "    basis = np.empty((dct_filter_num,filter_len))\n",
    "    basis[0, :] = 1.0 / np.sqrt(filter_len)\n",
    "    \n",
    "    samples = np.arange(1, 2 * filter_len, 2) * np.pi / (2.0 * filter_len)\n",
    "\n",
    "    for i in range(1, dct_filter_num):\n",
    "        basis[i, :] = np.cos(i * samples) * np.sqrt(2.0 / filter_len)\n",
    "        \n",
    "    return basis\n"
   ]
  },
  {
   "cell_type": "code",
   "execution_count": 0,
   "metadata": {
    "colab": {},
    "colab_type": "code",
    "id": "4giGjhTKSDWV"
   },
   "outputs": [],
   "source": [
    "dct_filter_num = 40\n",
    "\n",
    "dct_filters = dct(dct_filter_num, mel_filter_num)\n",
    "\n",
    "cepstral_coefficents1 = np.dot(dct_filters, audio_log1)\n",
    "cepstral_coefficents1.shape"
   ]
  },
  {
   "cell_type": "code",
   "execution_count": 0,
   "metadata": {
    "colab": {},
    "colab_type": "code",
    "id": "Gqm4NwLXT5fz"
   },
   "outputs": [],
   "source": [
    "cepstral_coefficents1[1:5,:]"
   ]
  },
  {
   "cell_type": "code",
   "execution_count": 0,
   "metadata": {
    "colab": {},
    "colab_type": "code",
    "id": "T1BwLW8eecHy"
   },
   "outputs": [],
   "source": [
    "plt.figure(figsize=(15,5))\n",
    "plt.plot(np.linspace(0, len(audio1) / sample_rate1, num=len(audio1)), audio1)\n",
    "plt.imshow(cepstral_coefficents1, aspect='auto', origin='lower')"
   ]
  },
  {
   "cell_type": "code",
   "execution_count": 0,
   "metadata": {
    "colab": {},
    "colab_type": "code",
    "id": "D8Jkn73nV_tl"
   },
   "outputs": [],
   "source": [
    "dct_filter_num = 40\n",
    "\n",
    "dct_filters = dct(dct_filter_num, mel_filter_num)\n",
    "\n",
    "cepstral_coefficents2 = np.dot(dct_filters, audio_log2)\n",
    "cepstral_coefficents2.shape"
   ]
  },
  {
   "cell_type": "code",
   "execution_count": 0,
   "metadata": {
    "colab": {},
    "colab_type": "code",
    "id": "Rc9zjUQ3WRzf"
   },
   "outputs": [],
   "source": [
    "cepstral_coefficents2[1:5,:]"
   ]
  },
  {
   "cell_type": "code",
   "execution_count": 0,
   "metadata": {
    "colab": {},
    "colab_type": "code",
    "id": "1J43ylBSd9fI"
   },
   "outputs": [],
   "source": [
    "plt.figure(figsize=(15,5))\n",
    "plt.plot(np.linspace(0, len(audio2) / sample_rate2, num=len(audio2)), audio2)\n",
    "plt.imshow(cepstral_coefficents2, aspect='auto', origin='lower');\n",
    "\n"
   ]
  },
  {
   "cell_type": "code",
   "execution_count": 0,
   "metadata": {
    "colab": {},
    "colab_type": "code",
    "id": "N-V7ySpKBV0U"
   },
   "outputs": [],
   "source": [
    "for i in range(cepstral_coefficents1.shape[0]):\n",
    "  for j in range(cepstral_coefficents1.shape[1]):\n",
    "    if math.isinf(cepstral_coefficents1[i][j]) or np.isnan(cepstral_coefficents1[i][j]):\n",
    "      cepstral_coefficents1[i][j] = 0\n",
    "cepstral_coefficents1[1:5,]"
   ]
  },
  {
   "cell_type": "code",
   "execution_count": 0,
   "metadata": {
    "colab": {},
    "colab_type": "code",
    "id": "0jClExMtN3jj"
   },
   "outputs": [],
   "source": [
    "for i in range(cepstral_coefficents2.shape[0]):\n",
    "  for j in range(cepstral_coefficents2.shape[1]):\n",
    "    if math.isinf(cepstral_coefficents2[i][j]) or np.isnan(cepstral_coefficents2[i][j]):\n",
    "      cepstral_coefficents2[i][j] = 0\n",
    "cepstral_coefficents2[1:5,]"
   ]
  },
  {
   "cell_type": "markdown",
   "metadata": {
    "colab_type": "text",
    "id": "BNaJRIoCBYY1"
   },
   "source": [
    "# **Cosine Similarity**\n",
    "\n",
    "### 1. By Sci-Kit Learn Library\n",
    "### 2. By User Defined Function\n",
    "\n",
    "\n",
    "      compute cosine similarity of v1 to v2: (v1 dot v2)/{||v1||*||v2||)\n",
    "      COS(O) = v1 . v2 / |v1|.|v2|\n"
   ]
  },
  {
   "cell_type": "code",
   "execution_count": 0,
   "metadata": {
    "colab": {},
    "colab_type": "code",
    "id": "coMnBEVz_ukz"
   },
   "outputs": [],
   "source": [
    "from sklearn.metrics.pairwise import cosine_similarity\n",
    "cosine_similarity(cepstral_coefficents1, cepstral_coefficents2[:,0:171])"
   ]
  },
  {
   "cell_type": "code",
   "execution_count": 0,
   "metadata": {
    "colab": {},
    "colab_type": "code",
    "id": "vLDFYGi2JZmC"
   },
   "outputs": [],
   "source": [
    "def cosine_similar(v1,v2):\n",
    "    sumxx, sumxy, sumyy = 0, 0, 0\n",
    "    for i in range(len(v1)):\n",
    "        x = v1[i]\n",
    "        y = v2[i]\n",
    "        sumxx += sum(x*x)\n",
    "        sumyy += sum(y*y)\n",
    "        sumxy += sum(x*y)\n",
    "    return sumxy/math.sqrt(sumxx*sumyy)"
   ]
  },
  {
   "cell_type": "code",
   "execution_count": 0,
   "metadata": {
    "colab": {},
    "colab_type": "code",
    "id": "e7viyCVkO51b"
   },
   "outputs": [],
   "source": [
    "if cepstral_coefficents1.shape[1] < cepstral_coefficents2.shape[1]:\n",
    "  th = cosine_similar(cepstral_coefficents1,cepstral_coefficents2[:,0:cepstral_coefficents1.shape[1]])\n",
    "else:\n",
    "  th = cosine_similar(cepstral_coefficents1[:,0:cepstral_coefficents2.shape[1]],cepstral_coefficents2)\n",
    "th"
   ]
  },
  {
   "cell_type": "markdown",
   "metadata": {
    "colab_type": "text",
    "id": "kdmmXBNqcVWP"
   },
   "source": [
    "# **Cross Correlation**\n",
    "      $$norm\\_corr(x,y)=\\dfrac{\\sum_{n=0}^{n-1} x[n]*y[n]}{\\sqrt{\\sum_{n=0}^{n-1} x[n]^2 * \\sum_{n=0}^{n-1} y[n]^2}}$$"
   ]
  },
  {
   "cell_type": "code",
   "execution_count": 0,
   "metadata": {
    "colab": {},
    "colab_type": "code",
    "id": "i_vem7vcPUq8"
   },
   "outputs": [],
   "source": [
    "from scipy.signal import correlate\n",
    "correlate(cepstral_coefficents1,cepstral_coefficents2[:,0:171],mode='same', method='fft').shape"
   ]
  },
  {
   "cell_type": "markdown",
   "metadata": {
    "colab_type": "text",
    "id": "XbUcMJYBdTOv"
   },
   "source": [
    "# **Auto Correlation**"
   ]
  },
  {
   "cell_type": "code",
   "execution_count": 0,
   "metadata": {
    "colab": {},
    "colab_type": "code",
    "id": "BSAsThxbdWRv"
   },
   "outputs": [],
   "source": [
    "np.correlate(cepstral_coefficents1,cepstral_coefficents2[:,0:171],mode='same')"
   ]
  },
  {
   "cell_type": "code",
   "execution_count": 0,
   "metadata": {
    "colab": {},
    "colab_type": "code",
    "id": "yGZmUwyBgR1r"
   },
   "outputs": [],
   "source": []
  }
 ],
 "metadata": {
  "accelerator": "TPU",
  "colab": {
   "collapsed_sections": [],
   "name": "Copy of audio_similarity.ipynb",
   "provenance": [],
   "toc_visible": true
  },
  "kernelspec": {
   "display_name": "Python 3",
   "language": "python",
   "name": "python3"
  },
  "language_info": {
   "codemirror_mode": {
    "name": "ipython",
    "version": 3
   },
   "file_extension": ".py",
   "mimetype": "text/x-python",
   "name": "python",
   "nbconvert_exporter": "python",
   "pygments_lexer": "ipython3",
   "version": "3.7.3"
  }
 },
 "nbformat": 4,
 "nbformat_minor": 1
}
